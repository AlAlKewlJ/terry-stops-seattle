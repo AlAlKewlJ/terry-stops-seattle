{
 "cells": [
  {
   "cell_type": "code",
   "execution_count": 5,
   "metadata": {},
   "outputs": [],
   "source": [
    "import pandas as pd\n",
    "df = pd.read_csv('Terry_Stops.csv')\n",
    "pd.set_option('display.max_columns',100)\n",
    "pd.set_option('display.max_rows', 200)\n",
    "import pandas_profiling\n",
    "import plotly.offline as po\n",
    "import plotly.graph_objs as go\n",
    "%matplotlib inline"
   ]
  },
  {
   "cell_type": "markdown",
   "metadata": {},
   "source": [
    "Given the information about the presence of weapons, the time of day of the call, the subject's perceived race, the officer's race\n",
    "\n",
    "INquiry into whether race plays a role in whether or not an arrest is made\n"
   ]
  },
  {
   "cell_type": "code",
   "execution_count": 6,
   "metadata": {},
   "outputs": [],
   "source": [
    "#pandas_profiling.ProfileReport(df)"
   ]
  },
  {
   "cell_type": "code",
   "execution_count": 7,
   "metadata": {},
   "outputs": [
    {
     "data": {
      "text/html": [
       "<div>\n",
       "<style scoped>\n",
       "    .dataframe tbody tr th:only-of-type {\n",
       "        vertical-align: middle;\n",
       "    }\n",
       "\n",
       "    .dataframe tbody tr th {\n",
       "        vertical-align: top;\n",
       "    }\n",
       "\n",
       "    .dataframe thead th {\n",
       "        text-align: right;\n",
       "    }\n",
       "</style>\n",
       "<table border=\"1\" class=\"dataframe\">\n",
       "  <thead>\n",
       "    <tr style=\"text-align: right;\">\n",
       "      <th></th>\n",
       "      <th>Subject Age Group</th>\n",
       "      <th>Subject ID</th>\n",
       "      <th>GO / SC Num</th>\n",
       "      <th>Terry Stop ID</th>\n",
       "      <th>Stop Resolution</th>\n",
       "      <th>Weapon Type</th>\n",
       "      <th>Officer ID</th>\n",
       "      <th>Officer YOB</th>\n",
       "      <th>Officer Gender</th>\n",
       "      <th>Officer Race</th>\n",
       "      <th>Subject Perceived Race</th>\n",
       "      <th>Subject Perceived Gender</th>\n",
       "      <th>Reported Date</th>\n",
       "      <th>Reported Time</th>\n",
       "      <th>Initial Call Type</th>\n",
       "      <th>Final Call Type</th>\n",
       "      <th>Call Type</th>\n",
       "      <th>Officer Squad</th>\n",
       "      <th>Arrest Flag</th>\n",
       "      <th>Frisk Flag</th>\n",
       "      <th>Precinct</th>\n",
       "      <th>Sector</th>\n",
       "      <th>Beat</th>\n",
       "    </tr>\n",
       "  </thead>\n",
       "  <tbody>\n",
       "    <tr>\n",
       "      <th>0</th>\n",
       "      <td>18 - 25</td>\n",
       "      <td>-1</td>\n",
       "      <td>20150000203647</td>\n",
       "      <td>54389</td>\n",
       "      <td>Arrest</td>\n",
       "      <td>None</td>\n",
       "      <td>7412</td>\n",
       "      <td>1979</td>\n",
       "      <td>M</td>\n",
       "      <td>White</td>\n",
       "      <td>White</td>\n",
       "      <td>Male</td>\n",
       "      <td>2015-06-17T00:00:00</td>\n",
       "      <td>13:18:00</td>\n",
       "      <td>SHOPLIFT - THEFT</td>\n",
       "      <td>--THEFT - SHOPLIFT</td>\n",
       "      <td>ONVIEW</td>\n",
       "      <td>WEST PCT 2ND W - KING BEATS</td>\n",
       "      <td>N</td>\n",
       "      <td>N</td>\n",
       "      <td>East</td>\n",
       "      <td>C</td>\n",
       "      <td>C3</td>\n",
       "    </tr>\n",
       "    <tr>\n",
       "      <th>1</th>\n",
       "      <td>18 - 25</td>\n",
       "      <td>-1</td>\n",
       "      <td>20150000203762</td>\n",
       "      <td>54306</td>\n",
       "      <td>Field Contact</td>\n",
       "      <td>None</td>\n",
       "      <td>7725</td>\n",
       "      <td>1974</td>\n",
       "      <td>F</td>\n",
       "      <td>White</td>\n",
       "      <td>Unknown</td>\n",
       "      <td>Female</td>\n",
       "      <td>2015-06-17T00:00:00</td>\n",
       "      <td>16:36:00</td>\n",
       "      <td>THREATS (INCLS IN-PERSON/BY PHONE/IN WRITING)</td>\n",
       "      <td>--DV - ARGUMENTS, DISTURBANCE (NO ARREST)</td>\n",
       "      <td>911</td>\n",
       "      <td>WEST PCT 2ND W - KING</td>\n",
       "      <td>N</td>\n",
       "      <td>N</td>\n",
       "      <td>West</td>\n",
       "      <td>K</td>\n",
       "      <td>K2</td>\n",
       "    </tr>\n",
       "    <tr>\n",
       "      <th>2</th>\n",
       "      <td>18 - 25</td>\n",
       "      <td>-1</td>\n",
       "      <td>20150000203886</td>\n",
       "      <td>60810</td>\n",
       "      <td>Offense Report</td>\n",
       "      <td>Lethal Cutting Instrument</td>\n",
       "      <td>6805</td>\n",
       "      <td>1973</td>\n",
       "      <td>M</td>\n",
       "      <td>White</td>\n",
       "      <td>White</td>\n",
       "      <td>Male</td>\n",
       "      <td>2015-07-06T00:00:00</td>\n",
       "      <td>17:36:00</td>\n",
       "      <td>SUSPICIOUS PERSON, VEHICLE OR INCIDENT</td>\n",
       "      <td>--SUSPICIOUS CIRCUM. - SUSPICIOUS PERSON</td>\n",
       "      <td>ONVIEW</td>\n",
       "      <td>WEST PCT 2ND W - DAVID</td>\n",
       "      <td>N</td>\n",
       "      <td>Y</td>\n",
       "      <td>West</td>\n",
       "      <td>D</td>\n",
       "      <td>D1</td>\n",
       "    </tr>\n",
       "    <tr>\n",
       "      <th>3</th>\n",
       "      <td>18 - 25</td>\n",
       "      <td>-1</td>\n",
       "      <td>20150000203886</td>\n",
       "      <td>60811</td>\n",
       "      <td>Offense Report</td>\n",
       "      <td>Lethal Cutting Instrument</td>\n",
       "      <td>6805</td>\n",
       "      <td>1973</td>\n",
       "      <td>M</td>\n",
       "      <td>White</td>\n",
       "      <td>White</td>\n",
       "      <td>Male</td>\n",
       "      <td>2015-06-18T00:00:00</td>\n",
       "      <td>15:00:00</td>\n",
       "      <td>SUSPICIOUS PERSON, VEHICLE OR INCIDENT</td>\n",
       "      <td>--SUSPICIOUS CIRCUM. - SUSPICIOUS PERSON</td>\n",
       "      <td>ONVIEW</td>\n",
       "      <td>WEST PCT 2ND W - DAVID</td>\n",
       "      <td>N</td>\n",
       "      <td>Y</td>\n",
       "      <td>West</td>\n",
       "      <td>D</td>\n",
       "      <td>D1</td>\n",
       "    </tr>\n",
       "    <tr>\n",
       "      <th>4</th>\n",
       "      <td>18 - 25</td>\n",
       "      <td>-1</td>\n",
       "      <td>20150000204122</td>\n",
       "      <td>54333</td>\n",
       "      <td>Arrest</td>\n",
       "      <td>Handgun</td>\n",
       "      <td>7472</td>\n",
       "      <td>1981</td>\n",
       "      <td>M</td>\n",
       "      <td>White</td>\n",
       "      <td>Black or African American</td>\n",
       "      <td>Male</td>\n",
       "      <td>2015-06-17T00:00:00</td>\n",
       "      <td>19:36:00</td>\n",
       "      <td>WARRANT - FELONY PICKUP</td>\n",
       "      <td>--WARRANT SERVICES - FELONY</td>\n",
       "      <td>ONVIEW</td>\n",
       "      <td>EAST PCT 2ND W - BEATS</td>\n",
       "      <td>N</td>\n",
       "      <td>Y</td>\n",
       "      <td>East</td>\n",
       "      <td>C</td>\n",
       "      <td>C3</td>\n",
       "    </tr>\n",
       "  </tbody>\n",
       "</table>\n",
       "</div>"
      ],
      "text/plain": [
       "  Subject Age Group  Subject ID     GO / SC Num  Terry Stop ID  \\\n",
       "0           18 - 25          -1  20150000203647          54389   \n",
       "1           18 - 25          -1  20150000203762          54306   \n",
       "2           18 - 25          -1  20150000203886          60810   \n",
       "3           18 - 25          -1  20150000203886          60811   \n",
       "4           18 - 25          -1  20150000204122          54333   \n",
       "\n",
       "  Stop Resolution                Weapon Type Officer ID  Officer YOB  \\\n",
       "0          Arrest                       None     7412           1979   \n",
       "1   Field Contact                       None     7725           1974   \n",
       "2  Offense Report  Lethal Cutting Instrument     6805           1973   \n",
       "3  Offense Report  Lethal Cutting Instrument     6805           1973   \n",
       "4          Arrest                    Handgun     7472           1981   \n",
       "\n",
       "  Officer Gender Officer Race     Subject Perceived Race  \\\n",
       "0              M        White                      White   \n",
       "1              F        White                    Unknown   \n",
       "2              M        White                      White   \n",
       "3              M        White                      White   \n",
       "4              M        White  Black or African American   \n",
       "\n",
       "  Subject Perceived Gender        Reported Date Reported Time  \\\n",
       "0                     Male  2015-06-17T00:00:00      13:18:00   \n",
       "1                   Female  2015-06-17T00:00:00      16:36:00   \n",
       "2                     Male  2015-07-06T00:00:00      17:36:00   \n",
       "3                     Male  2015-06-18T00:00:00      15:00:00   \n",
       "4                     Male  2015-06-17T00:00:00      19:36:00   \n",
       "\n",
       "                               Initial Call Type  \\\n",
       "0                               SHOPLIFT - THEFT   \n",
       "1  THREATS (INCLS IN-PERSON/BY PHONE/IN WRITING)   \n",
       "2         SUSPICIOUS PERSON, VEHICLE OR INCIDENT   \n",
       "3         SUSPICIOUS PERSON, VEHICLE OR INCIDENT   \n",
       "4                        WARRANT - FELONY PICKUP   \n",
       "\n",
       "                             Final Call Type Call Type  \\\n",
       "0                         --THEFT - SHOPLIFT    ONVIEW   \n",
       "1  --DV - ARGUMENTS, DISTURBANCE (NO ARREST)       911   \n",
       "2   --SUSPICIOUS CIRCUM. - SUSPICIOUS PERSON    ONVIEW   \n",
       "3   --SUSPICIOUS CIRCUM. - SUSPICIOUS PERSON    ONVIEW   \n",
       "4                --WARRANT SERVICES - FELONY    ONVIEW   \n",
       "\n",
       "                 Officer Squad Arrest Flag Frisk Flag Precinct  Sector    Beat  \n",
       "0  WEST PCT 2ND W - KING BEATS           N          N     East  C       C3      \n",
       "1        WEST PCT 2ND W - KING           N          N     West  K       K2      \n",
       "2       WEST PCT 2ND W - DAVID           N          Y     West  D       D1      \n",
       "3       WEST PCT 2ND W - DAVID           N          Y     West  D       D1      \n",
       "4       EAST PCT 2ND W - BEATS           N          Y     East  C       C3      "
      ]
     },
     "execution_count": 7,
     "metadata": {},
     "output_type": "execute_result"
    }
   ],
   "source": [
    "df.head()"
   ]
  },
  {
   "cell_type": "code",
   "execution_count": 8,
   "metadata": {},
   "outputs": [
    {
     "data": {
      "text/plain": [
       "(46305, 23)"
      ]
     },
     "execution_count": 8,
     "metadata": {},
     "output_type": "execute_result"
    }
   ],
   "source": [
    "df.shape"
   ]
  },
  {
   "cell_type": "code",
   "execution_count": 9,
   "metadata": {},
   "outputs": [
    {
     "data": {
      "text/plain": [
       "Subject Age Group           False\n",
       "Subject ID                  False\n",
       "GO / SC Num                 False\n",
       "Terry Stop ID               False\n",
       "Stop Resolution             False\n",
       "Weapon Type                 False\n",
       "Officer ID                  False\n",
       "Officer YOB                 False\n",
       "Officer Gender              False\n",
       "Officer Race                False\n",
       "Subject Perceived Race      False\n",
       "Subject Perceived Gender    False\n",
       "Reported Date               False\n",
       "Reported Time               False\n",
       "Initial Call Type           False\n",
       "Final Call Type             False\n",
       "Call Type                   False\n",
       "Officer Squad                True\n",
       "Arrest Flag                 False\n",
       "Frisk Flag                  False\n",
       "Precinct                    False\n",
       "Sector                      False\n",
       "Beat                        False\n",
       "dtype: bool"
      ]
     },
     "execution_count": 9,
     "metadata": {},
     "output_type": "execute_result"
    }
   ],
   "source": [
    "df.isnull().any()"
   ]
  },
  {
   "cell_type": "code",
   "execution_count": 10,
   "metadata": {},
   "outputs": [
    {
     "data": {
      "text/plain": [
       "Subject Age Group           object\n",
       "Subject ID                   int64\n",
       "GO / SC Num                  int64\n",
       "Terry Stop ID                int64\n",
       "Stop Resolution             object\n",
       "Weapon Type                 object\n",
       "Officer ID                  object\n",
       "Officer YOB                  int64\n",
       "Officer Gender              object\n",
       "Officer Race                object\n",
       "Subject Perceived Race      object\n",
       "Subject Perceived Gender    object\n",
       "Reported Date               object\n",
       "Reported Time               object\n",
       "Initial Call Type           object\n",
       "Final Call Type             object\n",
       "Call Type                   object\n",
       "Officer Squad               object\n",
       "Arrest Flag                 object\n",
       "Frisk Flag                  object\n",
       "Precinct                    object\n",
       "Sector                      object\n",
       "Beat                        object\n",
       "dtype: object"
      ]
     },
     "execution_count": 10,
     "metadata": {},
     "output_type": "execute_result"
    }
   ],
   "source": [
    "df.dtypes"
   ]
  },
  {
   "cell_type": "code",
   "execution_count": 36,
   "metadata": {},
   "outputs": [
    {
     "data": {
      "text/plain": [
       "West         11118\n",
       "North        10184\n",
       "-             9811\n",
       "East          6109\n",
       "South         5547\n",
       "Southwest     2320\n",
       "SouthWest      965\n",
       "Unknown        200\n",
       "OOJ             32\n",
       "FK ERROR        19\n",
       "Name: Precinct, dtype: int64"
      ]
     },
     "execution_count": 36,
     "metadata": {},
     "output_type": "execute_result"
    }
   ],
   "source": [
    "#Started to look at value counts and first started with Precinct. We see that there are a few values like '-', 'OOJ', 'FK ERROR' and 'Unknown' that we could not \n",
    "df['Precinct'].value_counts()"
   ]
  },
  {
   "cell_type": "code",
   "execution_count": 37,
   "metadata": {},
   "outputs": [
    {
     "data": {
      "text/html": [
       "<div>\n",
       "<style scoped>\n",
       "    .dataframe tbody tr th:only-of-type {\n",
       "        vertical-align: middle;\n",
       "    }\n",
       "\n",
       "    .dataframe tbody tr th {\n",
       "        vertical-align: top;\n",
       "    }\n",
       "\n",
       "    .dataframe thead th {\n",
       "        text-align: right;\n",
       "    }\n",
       "</style>\n",
       "<table border=\"1\" class=\"dataframe\">\n",
       "  <thead>\n",
       "    <tr style=\"text-align: right;\">\n",
       "      <th></th>\n",
       "      <th>Subject Age Group</th>\n",
       "      <th>Subject ID</th>\n",
       "      <th>GO / SC Num</th>\n",
       "      <th>Terry Stop ID</th>\n",
       "      <th>Stop Resolution</th>\n",
       "      <th>Weapon Type</th>\n",
       "      <th>Officer ID</th>\n",
       "      <th>Officer YOB</th>\n",
       "      <th>Officer Gender</th>\n",
       "      <th>Officer Race</th>\n",
       "      <th>Subject Perceived Race</th>\n",
       "      <th>Subject Perceived Gender</th>\n",
       "      <th>Reported Date</th>\n",
       "      <th>Reported Time</th>\n",
       "      <th>Initial Call Type</th>\n",
       "      <th>Final Call Type</th>\n",
       "      <th>Call Type</th>\n",
       "      <th>Officer Squad</th>\n",
       "      <th>Arrest Flag</th>\n",
       "      <th>Frisk Flag</th>\n",
       "      <th>Precinct</th>\n",
       "      <th>Sector</th>\n",
       "      <th>Beat</th>\n",
       "    </tr>\n",
       "  </thead>\n",
       "  <tbody>\n",
       "    <tr>\n",
       "      <th>1</th>\n",
       "      <td>18 - 25</td>\n",
       "      <td>-1</td>\n",
       "      <td>20150000203762</td>\n",
       "      <td>54306</td>\n",
       "      <td>Field Contact</td>\n",
       "      <td>None</td>\n",
       "      <td>7725</td>\n",
       "      <td>1974</td>\n",
       "      <td>F</td>\n",
       "      <td>White</td>\n",
       "      <td>Unknown</td>\n",
       "      <td>Female</td>\n",
       "      <td>2015-06-17T00:00:00</td>\n",
       "      <td>16:36:00</td>\n",
       "      <td>THREATS (INCLS IN-PERSON/BY PHONE/IN WRITING)</td>\n",
       "      <td>--DV - ARGUMENTS, DISTURBANCE (NO ARREST)</td>\n",
       "      <td>911</td>\n",
       "      <td>WEST PCT 2ND W - KING</td>\n",
       "      <td>N</td>\n",
       "      <td>N</td>\n",
       "      <td>West</td>\n",
       "      <td>K</td>\n",
       "      <td>K2</td>\n",
       "    </tr>\n",
       "    <tr>\n",
       "      <th>2</th>\n",
       "      <td>18 - 25</td>\n",
       "      <td>-1</td>\n",
       "      <td>20150000203886</td>\n",
       "      <td>60810</td>\n",
       "      <td>Offense Report</td>\n",
       "      <td>Lethal Cutting Instrument</td>\n",
       "      <td>6805</td>\n",
       "      <td>1973</td>\n",
       "      <td>M</td>\n",
       "      <td>White</td>\n",
       "      <td>White</td>\n",
       "      <td>Male</td>\n",
       "      <td>2015-07-06T00:00:00</td>\n",
       "      <td>17:36:00</td>\n",
       "      <td>SUSPICIOUS PERSON, VEHICLE OR INCIDENT</td>\n",
       "      <td>--SUSPICIOUS CIRCUM. - SUSPICIOUS PERSON</td>\n",
       "      <td>ONVIEW</td>\n",
       "      <td>WEST PCT 2ND W - DAVID</td>\n",
       "      <td>N</td>\n",
       "      <td>Y</td>\n",
       "      <td>West</td>\n",
       "      <td>D</td>\n",
       "      <td>D1</td>\n",
       "    </tr>\n",
       "    <tr>\n",
       "      <th>3</th>\n",
       "      <td>18 - 25</td>\n",
       "      <td>-1</td>\n",
       "      <td>20150000203886</td>\n",
       "      <td>60811</td>\n",
       "      <td>Offense Report</td>\n",
       "      <td>Lethal Cutting Instrument</td>\n",
       "      <td>6805</td>\n",
       "      <td>1973</td>\n",
       "      <td>M</td>\n",
       "      <td>White</td>\n",
       "      <td>White</td>\n",
       "      <td>Male</td>\n",
       "      <td>2015-06-18T00:00:00</td>\n",
       "      <td>15:00:00</td>\n",
       "      <td>SUSPICIOUS PERSON, VEHICLE OR INCIDENT</td>\n",
       "      <td>--SUSPICIOUS CIRCUM. - SUSPICIOUS PERSON</td>\n",
       "      <td>ONVIEW</td>\n",
       "      <td>WEST PCT 2ND W - DAVID</td>\n",
       "      <td>N</td>\n",
       "      <td>Y</td>\n",
       "      <td>West</td>\n",
       "      <td>D</td>\n",
       "      <td>D1</td>\n",
       "    </tr>\n",
       "    <tr>\n",
       "      <th>9</th>\n",
       "      <td>18 - 25</td>\n",
       "      <td>-1</td>\n",
       "      <td>20150000205682</td>\n",
       "      <td>54784</td>\n",
       "      <td>Arrest</td>\n",
       "      <td>Lethal Cutting Instrument</td>\n",
       "      <td>7736</td>\n",
       "      <td>1979</td>\n",
       "      <td>M</td>\n",
       "      <td>White</td>\n",
       "      <td>Hispanic</td>\n",
       "      <td>Male</td>\n",
       "      <td>2015-06-18T00:00:00</td>\n",
       "      <td>22:29:00</td>\n",
       "      <td>NARCOTICS - VIOLATIONS (LOITER, USE, SELL, NARS)</td>\n",
       "      <td>--NARCOTICS - OTHER</td>\n",
       "      <td>ONVIEW</td>\n",
       "      <td>WEST PCT 3RD W - DAVID BEATS</td>\n",
       "      <td>N</td>\n",
       "      <td>Y</td>\n",
       "      <td>West</td>\n",
       "      <td>M</td>\n",
       "      <td>M1</td>\n",
       "    </tr>\n",
       "    <tr>\n",
       "      <th>10</th>\n",
       "      <td>18 - 25</td>\n",
       "      <td>-1</td>\n",
       "      <td>20150000205743</td>\n",
       "      <td>54725</td>\n",
       "      <td>Arrest</td>\n",
       "      <td>None</td>\n",
       "      <td>6816</td>\n",
       "      <td>1977</td>\n",
       "      <td>F</td>\n",
       "      <td>White</td>\n",
       "      <td>White</td>\n",
       "      <td>Female</td>\n",
       "      <td>2015-06-18T00:00:00</td>\n",
       "      <td>23:46:00</td>\n",
       "      <td>SUSPICIOUS STOP - OFFICER INITIATED ONVIEW</td>\n",
       "      <td>--SUSPICIOUS CIRCUM. - SUSPICIOUS VEHICLE</td>\n",
       "      <td>ONVIEW</td>\n",
       "      <td>WEST PCT 3RD W - QUEEN</td>\n",
       "      <td>N</td>\n",
       "      <td>N</td>\n",
       "      <td>West</td>\n",
       "      <td>Q</td>\n",
       "      <td>Q3</td>\n",
       "    </tr>\n",
       "    <tr>\n",
       "      <th>...</th>\n",
       "      <td>...</td>\n",
       "      <td>...</td>\n",
       "      <td>...</td>\n",
       "      <td>...</td>\n",
       "      <td>...</td>\n",
       "      <td>...</td>\n",
       "      <td>...</td>\n",
       "      <td>...</td>\n",
       "      <td>...</td>\n",
       "      <td>...</td>\n",
       "      <td>...</td>\n",
       "      <td>...</td>\n",
       "      <td>...</td>\n",
       "      <td>...</td>\n",
       "      <td>...</td>\n",
       "      <td>...</td>\n",
       "      <td>...</td>\n",
       "      <td>...</td>\n",
       "      <td>...</td>\n",
       "      <td>...</td>\n",
       "      <td>...</td>\n",
       "      <td>...</td>\n",
       "      <td>...</td>\n",
       "    </tr>\n",
       "    <tr>\n",
       "      <th>46281</th>\n",
       "      <td>18 - 25</td>\n",
       "      <td>-1</td>\n",
       "      <td>20150000196264</td>\n",
       "      <td>53603</td>\n",
       "      <td>Offense Report</td>\n",
       "      <td>Lethal Cutting Instrument</td>\n",
       "      <td>7664</td>\n",
       "      <td>1975</td>\n",
       "      <td>M</td>\n",
       "      <td>White</td>\n",
       "      <td>White</td>\n",
       "      <td>Male</td>\n",
       "      <td>2015-06-12T00:00:00</td>\n",
       "      <td>04:10:00</td>\n",
       "      <td>ROBBERY (INCLUDES STRONG ARM)</td>\n",
       "      <td>--ROBBERY - STRONG ARM</td>\n",
       "      <td>911</td>\n",
       "      <td>WEST PCT 3RD W - KING</td>\n",
       "      <td>N</td>\n",
       "      <td>N</td>\n",
       "      <td>West</td>\n",
       "      <td>M</td>\n",
       "      <td>M2</td>\n",
       "    </tr>\n",
       "    <tr>\n",
       "      <th>46291</th>\n",
       "      <td>18 - 25</td>\n",
       "      <td>-1</td>\n",
       "      <td>20150000199039</td>\n",
       "      <td>53293</td>\n",
       "      <td>Offense Report</td>\n",
       "      <td>None</td>\n",
       "      <td>7627</td>\n",
       "      <td>1987</td>\n",
       "      <td>M</td>\n",
       "      <td>Asian</td>\n",
       "      <td>Black or African American</td>\n",
       "      <td>Male</td>\n",
       "      <td>2015-06-14T00:00:00</td>\n",
       "      <td>01:28:00</td>\n",
       "      <td>ASLT - IP/JO - WITH OR W/O WPNS (NO SHOOTINGS)</td>\n",
       "      <td>--DISTURBANCE - OTHER</td>\n",
       "      <td>911</td>\n",
       "      <td>WEST PCT 3RD W - D/M RELIEF</td>\n",
       "      <td>N</td>\n",
       "      <td>N</td>\n",
       "      <td>West</td>\n",
       "      <td>Q</td>\n",
       "      <td>Q3</td>\n",
       "    </tr>\n",
       "    <tr>\n",
       "      <th>46295</th>\n",
       "      <td>18 - 25</td>\n",
       "      <td>-1</td>\n",
       "      <td>20150000200260</td>\n",
       "      <td>53729</td>\n",
       "      <td>Arrest</td>\n",
       "      <td>-</td>\n",
       "      <td>6908</td>\n",
       "      <td>1981</td>\n",
       "      <td>M</td>\n",
       "      <td>White</td>\n",
       "      <td>Black or African American</td>\n",
       "      <td>Male</td>\n",
       "      <td>2015-06-15T00:00:00</td>\n",
       "      <td>22:29:00</td>\n",
       "      <td>ASLT - WITH OR W/O WEAPONS (NO SHOOTINGS)</td>\n",
       "      <td>--ASSAULTS, OTHER</td>\n",
       "      <td>911</td>\n",
       "      <td>SOUTHWEST PCT - 3RD WATCH - F/W RELIEF</td>\n",
       "      <td>N</td>\n",
       "      <td>N</td>\n",
       "      <td>West</td>\n",
       "      <td>M</td>\n",
       "      <td>M2</td>\n",
       "    </tr>\n",
       "    <tr>\n",
       "      <th>46303</th>\n",
       "      <td>18 - 25</td>\n",
       "      <td>-1</td>\n",
       "      <td>20150000203317</td>\n",
       "      <td>54271</td>\n",
       "      <td>Offense Report</td>\n",
       "      <td>None</td>\n",
       "      <td>7792</td>\n",
       "      <td>1987</td>\n",
       "      <td>M</td>\n",
       "      <td>White</td>\n",
       "      <td>Black or African American</td>\n",
       "      <td>Female</td>\n",
       "      <td>2015-06-17T00:00:00</td>\n",
       "      <td>10:52:00</td>\n",
       "      <td>FIGHT - IP - PHYSICAL (NO WEAPONS)</td>\n",
       "      <td>--ASSAULTS, OTHER</td>\n",
       "      <td>911</td>\n",
       "      <td>TRAINING - FIELD TRAINING SQUAD</td>\n",
       "      <td>N</td>\n",
       "      <td>N</td>\n",
       "      <td>West</td>\n",
       "      <td>M</td>\n",
       "      <td>M1</td>\n",
       "    </tr>\n",
       "    <tr>\n",
       "      <th>46304</th>\n",
       "      <td>18 - 25</td>\n",
       "      <td>-1</td>\n",
       "      <td>20150000203488</td>\n",
       "      <td>55188</td>\n",
       "      <td>Offense Report</td>\n",
       "      <td>None</td>\n",
       "      <td>7792</td>\n",
       "      <td>1987</td>\n",
       "      <td>M</td>\n",
       "      <td>White</td>\n",
       "      <td>Black or African American</td>\n",
       "      <td>Male</td>\n",
       "      <td>2015-06-17T00:00:00</td>\n",
       "      <td>11:52:00</td>\n",
       "      <td>ASLT - IP/JO - WITH OR W/O WPNS (NO SHOOTINGS)</td>\n",
       "      <td>--DISTURBANCE - OTHER</td>\n",
       "      <td>911</td>\n",
       "      <td>TRAINING - FIELD TRAINING SQUAD</td>\n",
       "      <td>N</td>\n",
       "      <td>N</td>\n",
       "      <td>West</td>\n",
       "      <td>M</td>\n",
       "      <td>M3</td>\n",
       "    </tr>\n",
       "  </tbody>\n",
       "</table>\n",
       "<p>11118 rows × 23 columns</p>\n",
       "</div>"
      ],
      "text/plain": [
       "      Subject Age Group  Subject ID     GO / SC Num  Terry Stop ID  \\\n",
       "1               18 - 25          -1  20150000203762          54306   \n",
       "2               18 - 25          -1  20150000203886          60810   \n",
       "3               18 - 25          -1  20150000203886          60811   \n",
       "9               18 - 25          -1  20150000205682          54784   \n",
       "10              18 - 25          -1  20150000205743          54725   \n",
       "...                 ...         ...             ...            ...   \n",
       "46281           18 - 25          -1  20150000196264          53603   \n",
       "46291           18 - 25          -1  20150000199039          53293   \n",
       "46295           18 - 25          -1  20150000200260          53729   \n",
       "46303           18 - 25          -1  20150000203317          54271   \n",
       "46304           18 - 25          -1  20150000203488          55188   \n",
       "\n",
       "      Stop Resolution                Weapon Type Officer ID  Officer YOB  \\\n",
       "1       Field Contact                       None     7725           1974   \n",
       "2      Offense Report  Lethal Cutting Instrument     6805           1973   \n",
       "3      Offense Report  Lethal Cutting Instrument     6805           1973   \n",
       "9              Arrest  Lethal Cutting Instrument     7736           1979   \n",
       "10             Arrest                       None     6816           1977   \n",
       "...               ...                        ...        ...          ...   \n",
       "46281  Offense Report  Lethal Cutting Instrument     7664           1975   \n",
       "46291  Offense Report                       None     7627           1987   \n",
       "46295          Arrest                          -     6908           1981   \n",
       "46303  Offense Report                       None     7792           1987   \n",
       "46304  Offense Report                       None     7792           1987   \n",
       "\n",
       "      Officer Gender Officer Race     Subject Perceived Race  \\\n",
       "1                  F        White                    Unknown   \n",
       "2                  M        White                      White   \n",
       "3                  M        White                      White   \n",
       "9                  M        White                   Hispanic   \n",
       "10                 F        White                      White   \n",
       "...              ...          ...                        ...   \n",
       "46281              M        White                      White   \n",
       "46291              M        Asian  Black or African American   \n",
       "46295              M        White  Black or African American   \n",
       "46303              M        White  Black or African American   \n",
       "46304              M        White  Black or African American   \n",
       "\n",
       "      Subject Perceived Gender        Reported Date Reported Time  \\\n",
       "1                       Female  2015-06-17T00:00:00      16:36:00   \n",
       "2                         Male  2015-07-06T00:00:00      17:36:00   \n",
       "3                         Male  2015-06-18T00:00:00      15:00:00   \n",
       "9                         Male  2015-06-18T00:00:00      22:29:00   \n",
       "10                      Female  2015-06-18T00:00:00      23:46:00   \n",
       "...                        ...                  ...           ...   \n",
       "46281                     Male  2015-06-12T00:00:00      04:10:00   \n",
       "46291                     Male  2015-06-14T00:00:00      01:28:00   \n",
       "46295                     Male  2015-06-15T00:00:00      22:29:00   \n",
       "46303                   Female  2015-06-17T00:00:00      10:52:00   \n",
       "46304                     Male  2015-06-17T00:00:00      11:52:00   \n",
       "\n",
       "                                      Initial Call Type  \\\n",
       "1         THREATS (INCLS IN-PERSON/BY PHONE/IN WRITING)   \n",
       "2                SUSPICIOUS PERSON, VEHICLE OR INCIDENT   \n",
       "3                SUSPICIOUS PERSON, VEHICLE OR INCIDENT   \n",
       "9      NARCOTICS - VIOLATIONS (LOITER, USE, SELL, NARS)   \n",
       "10           SUSPICIOUS STOP - OFFICER INITIATED ONVIEW   \n",
       "...                                                 ...   \n",
       "46281                     ROBBERY (INCLUDES STRONG ARM)   \n",
       "46291    ASLT - IP/JO - WITH OR W/O WPNS (NO SHOOTINGS)   \n",
       "46295         ASLT - WITH OR W/O WEAPONS (NO SHOOTINGS)   \n",
       "46303                FIGHT - IP - PHYSICAL (NO WEAPONS)   \n",
       "46304    ASLT - IP/JO - WITH OR W/O WPNS (NO SHOOTINGS)   \n",
       "\n",
       "                                 Final Call Type Call Type  \\\n",
       "1      --DV - ARGUMENTS, DISTURBANCE (NO ARREST)       911   \n",
       "2       --SUSPICIOUS CIRCUM. - SUSPICIOUS PERSON    ONVIEW   \n",
       "3       --SUSPICIOUS CIRCUM. - SUSPICIOUS PERSON    ONVIEW   \n",
       "9                            --NARCOTICS - OTHER    ONVIEW   \n",
       "10     --SUSPICIOUS CIRCUM. - SUSPICIOUS VEHICLE    ONVIEW   \n",
       "...                                          ...       ...   \n",
       "46281                     --ROBBERY - STRONG ARM       911   \n",
       "46291                      --DISTURBANCE - OTHER       911   \n",
       "46295                          --ASSAULTS, OTHER       911   \n",
       "46303                          --ASSAULTS, OTHER       911   \n",
       "46304                      --DISTURBANCE - OTHER       911   \n",
       "\n",
       "                                Officer Squad Arrest Flag Frisk Flag Precinct  \\\n",
       "1                       WEST PCT 2ND W - KING           N          N     West   \n",
       "2                      WEST PCT 2ND W - DAVID           N          Y     West   \n",
       "3                      WEST PCT 2ND W - DAVID           N          Y     West   \n",
       "9                WEST PCT 3RD W - DAVID BEATS           N          Y     West   \n",
       "10                     WEST PCT 3RD W - QUEEN           N          N     West   \n",
       "...                                       ...         ...        ...      ...   \n",
       "46281                   WEST PCT 3RD W - KING           N          N     West   \n",
       "46291             WEST PCT 3RD W - D/M RELIEF           N          N     West   \n",
       "46295  SOUTHWEST PCT - 3RD WATCH - F/W RELIEF           N          N     West   \n",
       "46303         TRAINING - FIELD TRAINING SQUAD           N          N     West   \n",
       "46304         TRAINING - FIELD TRAINING SQUAD           N          N     West   \n",
       "\n",
       "       Sector    Beat  \n",
       "1      K       K2      \n",
       "2      D       D1      \n",
       "3      D       D1      \n",
       "9      M       M1      \n",
       "10     Q       Q3      \n",
       "...       ...     ...  \n",
       "46281  M       M2      \n",
       "46291  Q       Q3      \n",
       "46295  M       M2      \n",
       "46303  M       M1      \n",
       "46304  M       M3      \n",
       "\n",
       "[11118 rows x 23 columns]"
      ]
     },
     "execution_count": 37,
     "metadata": {},
     "output_type": "execute_result"
    }
   ],
   "source": [
    "df[df['Precinct'] == 'West']"
   ]
  },
  {
   "cell_type": "code",
   "execution_count": 38,
   "metadata": {},
   "outputs": [
    {
     "data": {
      "text/plain": [
       "7456      417\n",
       "7634      341\n",
       "7773      321\n",
       "7765      315\n",
       "7758      308\n",
       "         ... \n",
       "6421        1\n",
       "8792        1\n",
       "5434        1\n",
       "5937        1\n",
       "6616        1\n",
       "Name: Officer ID, Length: 1201, dtype: int64"
      ]
     },
     "execution_count": 38,
     "metadata": {},
     "output_type": "execute_result"
    }
   ],
   "source": [
    "#The only thing I can see us doing with this value is using it to see if we can detect a police officer who is more likely to racially profile based on on their arrest history\n",
    "df['Officer ID'].value_counts()"
   ]
  },
  {
   "cell_type": "code",
   "execution_count": 39,
   "metadata": {},
   "outputs": [
    {
     "data": {
      "text/plain": [
       "Subject Age Group             0\n",
       "Subject ID                    0\n",
       "GO / SC Num                   0\n",
       "Terry Stop ID                 0\n",
       "Stop Resolution               0\n",
       "Weapon Type                   0\n",
       "Officer ID                    0\n",
       "Officer YOB                   0\n",
       "Officer Gender                0\n",
       "Officer Race                  0\n",
       "Subject Perceived Race        0\n",
       "Subject Perceived Gender      0\n",
       "Reported Date                 0\n",
       "Reported Time                 0\n",
       "Initial Call Type             0\n",
       "Final Call Type               0\n",
       "Call Type                     0\n",
       "Officer Squad               605\n",
       "Arrest Flag                   0\n",
       "Frisk Flag                    0\n",
       "Precinct                      0\n",
       "Sector                        0\n",
       "Beat                          0\n",
       "dtype: int64"
      ]
     },
     "execution_count": 39,
     "metadata": {},
     "output_type": "execute_result"
    }
   ],
   "source": [
    "#Check Null Values\n",
    "df.isna().sum()"
   ]
  },
  {
   "cell_type": "code",
   "execution_count": 40,
   "metadata": {},
   "outputs": [
    {
     "data": {
      "text/plain": [
       "West         11118\n",
       "North        10184\n",
       "-             9811\n",
       "East          6109\n",
       "South         5547\n",
       "Southwest     2320\n",
       "SouthWest      965\n",
       "Unknown        200\n",
       "OOJ             32\n",
       "FK ERROR        19\n",
       "Name: Precinct, dtype: int64"
      ]
     },
     "execution_count": 40,
     "metadata": {},
     "output_type": "execute_result"
    }
   ],
   "source": [
    "#We should run a correlation to see if there is one between precinct and number of arrests, stops etc\n",
    "#Changing SouthWest to Southwest to group the data together \n",
    "df['Precinct'].value_counts() "
   ]
  },
  {
   "cell_type": "code",
   "execution_count": 49,
   "metadata": {},
   "outputs": [
    {
     "data": {
      "text/plain": [
       "West         11118\n",
       "North        10184\n",
       "-             9811\n",
       "East          6109\n",
       "South         5547\n",
       "Southwest     3285\n",
       "Name: Precinct, dtype: int64"
      ]
     },
     "execution_count": 49,
     "metadata": {},
     "output_type": "execute_result"
    }
   ],
   "source": [
    "#Dropped OOJ, FK ERROR, and Unkown, these were a small portion of our data and didnt think it would impact the model\n",
    "df['Precinct'] = df['Precinct'].replace(['SouthWest'], ['Southwest']) \n",
    "df = df[df.Precinct != 'OOJ']\n",
    "df = df[df.Precinct != 'FK ERROR']\n",
    "df = df[df.Precinct != 'Unknown']\n",
    "df['Precinct'].value_counts()\n",
    " "
   ]
  },
  {
   "cell_type": "code",
   "execution_count": 50,
   "metadata": {
    "collapsed": true,
    "jupyter": {
     "outputs_hidden": true
    }
   },
   "outputs": [
    {
     "data": {
      "text/plain": [
       "TRAINING - FIELD TRAINING SQUAD                        4936\n",
       "WEST PCT 1ST W - DAVID/MARY                            1521\n",
       "WEST PCT 2ND W - D/M RELIEF                            1002\n",
       "SOUTHWEST PCT 2ND W - FRANK                             935\n",
       "NORTH PCT 2ND WATCH - NORTH BEATS                       882\n",
       "WEST PCT 1ST W - KING/QUEEN                             813\n",
       "WEST PCT 3RD W - DAVID                                  808\n",
       "EAST PCT 3RD W - E/G RELIEF                             801\n",
       "WEST PCT 1ST W - KQ/DM RELIEF                           795\n",
       "EAST PCT 1ST W - E/G RELIEF (CHARLIE)                   756\n",
       "EAST PCT 3RD W - EDWARD                                 736\n",
       "NORTH PCT 3RD W - B/N RELIEF                            725\n",
       "NORTH PCT 2ND W - NORA                                  714\n",
       "WEST PCT 2ND W - KING                                   702\n",
       "WEST PCT 3RD W - KING                                   684\n",
       "EAST PCT 2ND W - CHARLIE RELIEF                         668\n",
       "SOUTH PCT 1ST W - R/S RELIEF                            653\n",
       "WEST PCT 3RD W - MARY                                   639\n",
       "WEST PCT 2ND W - MARY BEATS                             629\n",
       "WEST PCT 3RD W - QUEEN                                  618\n",
       "NORTH PCT 3RD W - NORA                                  604\n",
       "NORTH PCT 2ND W - JOHN RELIEF                           577\n",
       "WEST PCT 3RD W - D/M RELIEF                             577\n",
       "WEST PCT 2ND W - K/Q RELIEF                             572\n",
       "NORTH PCT 1ST W - LINCOLN                               570\n",
       "NORTH PCT 3RD W - UNION                                 560\n",
       "SOUTHWEST PCT 2ND W - WILLIAM                           544\n",
       "WEST PCT 2ND W - DAVID                                  538\n",
       "WEST PCT 3RD W - K/Q RELIEF                             534\n",
       "SOUTH PCT 1ST W - SAM                                   531\n",
       "NORTH PCT 3RD W - BOY                                   530\n",
       "NORTH PCT 2ND W - JOHN                                  522\n",
       "SOUTH PCT 2ND W - R/S RELIEF                            512\n",
       "SOUTH PCT 3RD W - SAM                                   498\n",
       "SOUTH PCT 2ND W - ROBERT                                484\n",
       "NORTH PCT 3RD W - L/U RELIEF                            478\n",
       "WEST PCT 3RD W - DAVID BEATS                            475\n",
       "NORTH PCT 1ST W - BOY (JOHN)                            459\n",
       "NORTH PCT 3RD W - JOHN RELIEF                           434\n",
       "NORTH PCT 2ND W - LINCOLN                               431\n",
       "SOUTHWEST PCT 2ND WATCH - F/W RELIEF                    427\n",
       "SOUTHWEST PCT - 1ST WATCH - F/W RELIEF                  417\n",
       "SOUTH PCT 1ST W - ROBERT                                416\n",
       "EAST PCT 2ND W - CHARLIE                                416\n",
       "NORTH PCT 3RD W - LINCOLN                               415\n",
       "EAST PCT 1ST W - EDWARD (CHARLIE)                       414\n",
       "SOUTH PCT 3RD W - ROBERT                                409\n",
       "SOUTH PCT 2ND W - SAM                                   394\n",
       "WEST PCT 2ND W - DAVID BEATS                            379\n",
       "EAST PCT 2ND W - GEORGE                                 365\n",
       "EAST PCT 2ND W - EDWARD                                 359\n",
       "EAST PCT 3RD W - CHARLIE                                351\n",
       "NORTH PCT OPS - ACT DAY                                 343\n",
       "WEST PCT 2ND W - MARY                                   342\n",
       "NORTH PCT 1ST W - B/N RELIEF (JOHN)                     341\n",
       "NORTH PCT 2ND WATCH - B/N RELIEF                        340\n",
       "NORTH PCT 1ST W - UNION                                 337\n",
       "NORTH PCT 2ND W - L/U RELIEF                            336\n",
       "EAST PCT 2ND W - E/G RELIEF                             326\n",
       "SOUTH PCT 2ND W - OCEAN                                 323\n",
       "EAST PCT 3RD WATCH - CHARLIE RELIEF                     318\n",
       "SOUTH PCT 3RD W - OCEAN                                 312\n",
       "EAST PCT 3RD W - GEORGE                                 302\n",
       "SOUTHWEST PCT 3RD W - WILLIAM                           301\n",
       "SOUTH PCT 1ST W - OCEAN                                 300\n",
       "WEST PCT 2ND W - QUEEN                                  298\n",
       "SOUTH PCT 2ND W - OCEAN RELIEF                          291\n",
       "SOUTHWEST PCT - 3RD WATCH - F/W RELIEF                  281\n",
       "NORTH PCT 3RD W - JOHN                                  270\n",
       "NORTH PCT 1ST W - L/U RELIEF                            264\n",
       "SOUTH PCT OPS - DAY ACT                                 260\n",
       "EAST PCT 1ST W - GEORGE (CHARLIE)                       250\n",
       "SOUTHWEST PCT 3RD W - FRANK                             245\n",
       "NORTH PCT 2ND W - BOY                                   243\n",
       "WEST PCT OPS - ACT NIGHT                                216\n",
       "SOUTHWEST PCT 1ST W - FRANK                             216\n",
       "NORTH PCT 1ST W - NORA (JOHN)                           214\n",
       "SOUTHWEST PCT 1ST W - WILLIAM                           208\n",
       "WEST PCT 2ND W - KING BEATS                             199\n",
       "NORTH PCT OPS - CPT                                     194\n",
       "SOUTH PCT 3RD W - R/S RELIEF                            193\n",
       "SOUTHWEST PCT 2ND W - SOUTHWEST BEATS                   169\n",
       "EAST PCT 3RD W - EAST BEATS                             163\n",
       "NORTH PCT 2ND W - UNION                                 161\n",
       "SOUTH PCT 3RD W - OCEAN RELIEF                          159\n",
       "WEST PCT 2ND W - SPECIAL BEATS                          113\n",
       "SOUTH PCT OPS - NIGHT ACT                               112\n",
       "EAST PCT 2ND W - BEATS                                  108\n",
       "SOUTHWEST PCT OPS - NIGHT ACT                            85\n",
       "TRAF - DUI SQUAD                                         76\n",
       "EAST PCT OPS - NIGHT ACT                                 76\n",
       "WEST PCT OPS - CPT                                       75\n",
       "SOUTH PCT 2ND W - SAM BEATS                              68\n",
       "SOUTHWEST PCT OPS - CPT                                  67\n",
       "CRG - SQUAD 81B                                          56\n",
       "CRISIS RESPONSE SQUAD                                    47\n",
       "CRG - SQUAD 81C                                          37\n",
       "CRG - SQUAD 82D                                          33\n",
       "CRG - SQUAD 81D                                          31\n",
       "GANG SQUAD C                                             29\n",
       "CRG - SQUAD 82A                                          27\n",
       "CRG - SQUAD 82E                                          24\n",
       "CRG - SQUAD 81A                                          24\n",
       "SOUTH PCT OPS - CPT                                      24\n",
       "CCI - MAJOR CRIMES TASK FORCE                            24\n",
       "CRG - SQUAD 82C                                          22\n",
       "GANG SQUAD B                                             21\n",
       "CRISIS INTERVENTION COORDINATION SQUAD                   21\n",
       "GANG SQUAD A                                             20\n",
       "CANINE - SQUAD C                                         20\n",
       "MAJOR CRIMES TASK FORCE                                  18\n",
       "CRG - SQUAD 81E                                          16\n",
       "CANINE - SQUAD A                                         16\n",
       "SAU SQUAD A                                              14\n",
       "HARBOR - SQUAD A                                         13\n",
       "HR - DEPARTMENT UNAVAILABLE PERSONNEL                    11\n",
       "SOUTH PCT OPS - BURG/THEFT                               11\n",
       "WEST PCT OPS - SEA CTR                                   10\n",
       "EAST PCT OPS - CPT                                       10\n",
       "WEST PCT OPS - BURG/THEFT                                 9\n",
       "WEST PCT OPS - MOUNTED PATROL                             9\n",
       "AUTO THEFT                                                8\n",
       "SWAT - NIGHT SQUAD 1                                      8\n",
       "CANINE - NIGHT SQUAD                                      7\n",
       "TRAF - AM ENFORCEMENT                                     6\n",
       "JOINT ENFORCEMENT TEAM                                    6\n",
       "HR - HUMAN RESOURCES  - DEPT UNAVAIL PERSONNEL            6\n",
       "BURG/THEFT/JUV - SOUTH                                    6\n",
       "TRAF - PM ENFORCEMENT                                     6\n",
       "CRG - SQUAD 82B                                           6\n",
       "COMMUNITY OUTREACH UNIT                                   5\n",
       "SWAT - DAY SQUAD 2                                        5\n",
       "BURG/THEFT/JUV - EAST                                     5\n",
       "NAVIGATION TEAM - SQUAD A                                 5\n",
       "DV SQUAD C - ELDER ABUSE                                  4\n",
       "DV SQUAD A - INVESTIGATIONS                               4\n",
       "NARC - PROACTIVE SQUAD C                                  4\n",
       "JOINT ENFORCEMENT TEAM (JET)                              4\n",
       "SWAT - DAY SQUAD 1                                        4\n",
       "ROBBERY SQUAD A                                           4\n",
       "TRAF - COLLISION INVESTIGATION                            4\n",
       "TRAF - MOTORCYCLE UNIT - T4 SQUAD                         4\n",
       "OPS BUREAU - SPECIAL ASSIGNMENTS                          3\n",
       "HARBOR - SQUAD D                                          3\n",
       "PAWN DETAIL                                               3\n",
       "COMMUNITY OUTREACH - YOUTH VIOLENCE-SCHOOLS DETAIL        2\n",
       "NORTH PCT OPS - BURG/THEFT                                2\n",
       "EAST PCT OPS - BURG/THEFT                                 2\n",
       "SAU SQUAD B                                               2\n",
       "SOUTHWEST PCT OPS - DAY ACT                               2\n",
       "PUBLIC AFFAIRS SQUAD                                      2\n",
       "NAVIGATION TEAM - SQUAD B                                 2\n",
       "CANINE - DAY SQUAD                                        1\n",
       "HR - BLEA - ACADEMY RECRUITS                              1\n",
       "TRAINING - ADVANCED - SQUAD C                             1\n",
       "COMMUNITY OUTREACH - SPECIAL PROJECTS DETAIL              1\n",
       "VICE - GENERAL INVESTIGATIONS SQUAD                       1\n",
       "SOUTHWEST PCT OPS - BURG/THEFT                            1\n",
       "BURG/THEFT/JUV - NORTH                                    1\n",
       "BURG/THEFT/JUV - WEST                                     1\n",
       "RECORDS - DAY SHIFT                                       1\n",
       "TRAF - MOTORCYCLE UNIT - T2 SQUAD                         1\n",
       "ZOLD CRIME ANALYSIS UNIT - ANALYSTS                       1\n",
       "COMMUNITY OUTREACH - YOUTH VIOLENCE -SCHOOLS DETAIL       1\n",
       "ROBBERY SQUAD B                                           1\n",
       "TRAINING - LEARNING MANAGEMENT SYSTEM                     1\n",
       "COMM - INTERNET AND TELEPHONE REPORTING (ITRU)            1\n",
       "DV SQUAD D - ORDER SERVICE                                1\n",
       "SWAT - NIGHT SQUAD 2                                      1\n",
       "Name: Officer Squad, dtype: int64"
      ]
     },
     "execution_count": 50,
     "metadata": {},
     "output_type": "execute_result"
    }
   ],
   "source": [
    "df['Officer Squad'].value_counts()"
   ]
  },
  {
   "cell_type": "code",
   "execution_count": 62,
   "metadata": {},
   "outputs": [],
   "source": [
    "df['Officer Race'] = df['Officer Race'].replace(['Unknown'], ['Not Specified'])"
   ]
  },
  {
   "cell_type": "code",
   "execution_count": 63,
   "metadata": {},
   "outputs": [
    {
     "data": {
      "text/plain": [
       "White                            34892\n",
       "Hispanic or Latino                2635\n",
       "Two or More Races                 2569\n",
       "Asian                             1962\n",
       "Black or African American         1820\n",
       "Not Specified                     1412\n",
       "Nat Hawaiian/Oth Pac Islander      447\n",
       "American Indian/Alaska Native      317\n",
       "Name: Officer Race, dtype: int64"
      ]
     },
     "execution_count": 63,
     "metadata": {},
     "output_type": "execute_result"
    }
   ],
   "source": [
    "df['Officer Race'].value_counts()"
   ]
  },
  {
   "cell_type": "code",
   "execution_count": 70,
   "metadata": {},
   "outputs": [
    {
     "data": {
      "text/plain": [
       "1    34892\n",
       "0    11162\n",
       "Name: White_Officer, dtype: int64"
      ]
     },
     "execution_count": 70,
     "metadata": {},
     "output_type": "execute_result"
    }
   ],
   "source": [
    "df['White_Officer'] = (df['Officer Race'] == 'White')\n",
    "df['White_Officer'] = df['White_Officer'].replace([True, False], [1,0])\n",
    "df['White_Officer'].value_counts()"
   ]
  },
  {
   "cell_type": "code",
   "execution_count": 11,
   "metadata": {},
   "outputs": [
    {
     "data": {
      "text/plain": [
       "White                                        22596\n",
       "Black or African American                    13780\n",
       "Unknown                                       2525\n",
       "-                                             1886\n",
       "Hispanic                                      1684\n",
       "Asian                                         1491\n",
       "American Indian or Alaska Native              1334\n",
       "Multi-Racial                                   809\n",
       "Other                                          152\n",
       "Native Hawaiian or Other Pacific Islander       48\n",
       "Name: Subject Perceived Race, dtype: int64"
      ]
     },
     "execution_count": 11,
     "metadata": {},
     "output_type": "execute_result"
    }
   ],
   "source": [
    "#We should create a dummy variable called People of Color\n",
    "df['Subject Perceived Race'].value_counts()"
   ]
  },
  {
   "cell_type": "code",
   "execution_count": 72,
   "metadata": {},
   "outputs": [
    {
     "data": {
      "text/plain": [
       "White                                        22497\n",
       "Black or African American                    13719\n",
       "Not Specified                                 4369\n",
       "Hispanic                                      1664\n",
       "Asian                                         1479\n",
       "American Indian or Alaska Native              1326\n",
       "Multi-Racial                                   800\n",
       "Other                                          152\n",
       "Native Hawaiian or Other Pacific Islander       48\n",
       "Name: Subject Perceived Race, dtype: int64"
      ]
     },
     "execution_count": 72,
     "metadata": {},
     "output_type": "execute_result"
    }
   ],
   "source": [
    "df['Subject Perceived Race'] = df['Subject Perceived Race'].replace(['-', 'Unknown'],['Not Specified', 'Not Specified'])\n",
    "df['Subject Perceived Race'].value_counts()"
   ]
  },
  {
   "cell_type": "code",
   "execution_count": 73,
   "metadata": {
    "collapsed": true,
    "jupyter": {
     "outputs_hidden": true
    }
   },
   "outputs": [
    {
     "data": {
      "text/plain": [
       "Male                                                         36088\n",
       "Female                                                        9354\n",
       "Unable to Determine                                            314\n",
       "-                                                              272\n",
       "Unknown                                                         22\n",
       "Gender Diverse (gender non-conforming and/or transgender)        4\n",
       "Name: Subject Perceived Gender, dtype: int64"
      ]
     },
     "execution_count": 73,
     "metadata": {},
     "output_type": "execute_result"
    }
   ],
   "source": [
    "df['Subject Perceived Gender'].value_counts()"
   ]
  },
  {
   "cell_type": "code",
   "execution_count": 74,
   "metadata": {
    "collapsed": true,
    "jupyter": {
     "outputs_hidden": true
    }
   },
   "outputs": [
    {
     "data": {
      "text/plain": [
       "Male                                                         36088\n",
       "Female                                                        9354\n",
       "Unable to Determine                                            608\n",
       "Gender Diverse (gender non-conforming and/or transgender)        4\n",
       "Name: Subject Perceived Gender, dtype: int64"
      ]
     },
     "execution_count": 74,
     "metadata": {},
     "output_type": "execute_result"
    }
   ],
   "source": [
    "#There isn't a lot of data when it comes to gender. I don't know if this is necessary something we could use.\n",
    "df['Subject Perceived Gender'] = df['Subject Perceived Gender'].replace(['-', 'Unknown'],['Unable to Determine', 'Unable to Determine'])\n",
    "df['Subject Perceived Gender'].value_counts()"
   ]
  },
  {
   "cell_type": "code",
   "execution_count": 13,
   "metadata": {
    "collapsed": true,
    "jupyter": {
     "outputs_hidden": true
    }
   },
   "outputs": [
    {
     "data": {
      "text/plain": [
       "Field Contact               18555\n",
       "Offense Report              15448\n",
       "Arrest                      11397\n",
       "Referred for Prosecution      728\n",
       "Citation / Infraction         177\n",
       "Name: Stop Resolution, dtype: int64"
      ]
     },
     "execution_count": 13,
     "metadata": {},
     "output_type": "execute_result"
    }
   ],
   "source": [
    "#We should run an analysis on race and each one of these stop resolutions to see if there is a correlation \n",
    "df['Stop Resolution'].value_counts()"
   ]
  },
  {
   "cell_type": "code",
   "execution_count": 14,
   "metadata": {
    "collapsed": true,
    "jupyter": {
     "outputs_hidden": true
    }
   },
   "outputs": [
    {
     "data": {
      "text/plain": [
       "-                                                     13113\n",
       "SUSPICIOUS STOP - OFFICER INITIATED ONVIEW             3102\n",
       "SUSPICIOUS PERSON, VEHICLE OR INCIDENT                 2922\n",
       "DISTURBANCE, MISCELLANEOUS/OTHER                       2380\n",
       "ASLT - IP/JO - WITH OR W/O WPNS (NO SHOOTINGS)         1951\n",
       "TRESPASS                                               1860\n",
       "THEFT (DOES NOT INCLUDE SHOPLIFT OR SVCS)              1375\n",
       "SHOPLIFT - THEFT                                       1317\n",
       "FIGHT - IP - PHYSICAL (NO WEAPONS)                     1260\n",
       "WEAPN-IP/JO-GUN,DEADLY WPN (NO THRT/ASLT/DIST)         1126\n",
       "ROBBERY - IP/JO (INCLUDES STRONG ARM)                   878\n",
       "BURG - IP/JO - RES (INCL UNOCC STRUCTURES)              768\n",
       "THREATS (INCLS IN-PERSON/BY PHONE/IN WRITING)           712\n",
       "NARCOTICS - VIOLATIONS (LOITER, USE, SELL, NARS)        691\n",
       "DIST - IP/JO - DV DIST - NO ASLT                        689\n",
       "PROPERTY - DAMAGE                                       678\n",
       "ASLT - IP/JO - DV                                       649\n",
       "TRAFFIC STOP - OFFICER INITIATED ONVIEW                 638\n",
       "AUTO RECOVERY                                           631\n",
       "ASLT - WITH OR W/O WEAPONS (NO SHOOTINGS)               508\n",
       "BURG - IP/JO - COMM BURG (INCLUDES SCHOOLS)             507\n",
       "WARRANT - FELONY PICKUP                                 435\n",
       "ASLT - IP/JO - PERSON SHOT OR SHOT AT                   378\n",
       "DIST - DV - NO ASLT                                     366\n",
       "NUISANCE - MISCHIEF                                     336\n",
       "UNKNOWN - COMPLAINT OF UNKNOWN NATURE                   291\n",
       "FIGHT - VERBAL/ORAL (NO WEAPONS)                        283\n",
       "DOWN - CHECK FOR PERSON DOWN                            270\n",
       "SHOTS - IP/JO - INCLUDES HEARD/NO ASSAULT               257\n",
       "PROWLER - IP/JO                                         243\n",
       "ALARM - COMM, SILENT/AUD BURG (INCL BANKS)              237\n",
       "BURG - COMM BURGLARY (INCLUDES SCHOOLS)                 234\n",
       "ROBBERY (INCLUDES STRONG ARM)                           212\n",
       "BURG - RES (INCL UNOCC STRUCTURES ON PROP)              210\n",
       "FIGHT - IP/JO - WITH WEAPONS                            200\n",
       "WEAPN - GUN,DEADLY WPN (NO THRTS/ASLT/DIST)             187\n",
       "PERSON IN BEHAVIORAL/EMOTIONAL CRISIS                   181\n",
       "WARRANT - MISD WARRANT PICKUP                           172\n",
       "PREMISE CHECK, OFFICER INITIATED ONVIEW ONLY            170\n",
       "LEWD -  (EXPOSING, FLASHING)                            164\n",
       "DUI - DRIVING UNDER INFLUENCE                           150\n",
       "FIGHT - JO - PHYSICAL (NO WEAPONS)                      149\n",
       "HAZ - POTENTIAL THRT TO PHYS SAFETY (NO HAZMAT)         147\n",
       "SFD - ASSIST ON FIRE OR MEDIC RESPONSE                  142\n",
       "MVC - HIT AND RUN (NON INJURY), INCLUDES IP/JO          138\n",
       "MVC - WITH INJURIES (INCLUDES HIT AND RUN)              121\n",
       "ASLT - DV                                               116\n",
       "SUICIDE - IP/JO SUICIDAL PERSON AND ATTEMPTS            112\n",
       "FRAUD - FORGERY,BUNCO, SCAMS, ID THEFT, ETC             110\n",
       "ARSON - IP/JO                                           108\n",
       "ASSIST OTHER AGENCY - ROUTINE SERVICE                    98\n",
       "UNKNOWN - ANI/ALI - WRLS PHNS (INCL OPEN LINE)           95\n",
       "FOLLOW UP                                                91\n",
       "SEX IN PUBLIC PLACE/VIEW (INCL MASTURBATION)             90\n",
       "ORDER - IP - VIOLATION OF DV COURT ORDER                 86\n",
       "THEFT OF SERVICES                                        74\n",
       "SERVICE - WELFARE CHECK                                  73\n",
       "AUTO THEFT-IP/JO - VEHICLE, PLATES, TABS                 72\n",
       "UNDERCOVER OPS, CAUTION (INCLUDES STAKEOUTS)             71\n",
       "BURN - RECKLESS BURNING                                  71\n",
       "LIQUOR VIOLATIONS - ADULT                                62\n",
       "AUTO THEFT - VEH THEFT OR THEFT & RECOVERY               59\n",
       "ORDER - VIOLATING DV COURT ORDER                         55\n",
       "HARAS - NO BIAS, THREATS OR MALICIOUSNESS                55\n",
       "DOWN - CHECK FOR DOWN PERSON                             50\n",
       "MVC - REPORT, NON INJ/NON BLKG OR AFTER FACT INJ         49\n",
       "UNKNOWN - ANI/ALI - LANDLINE (INCLUDES OPEN LINE)        47\n",
       "THREATS - DV - NO ASSAULT                                46\n",
       "OVERDOSE - DRUG RELATED CASUALTY                         42\n",
       "ASLT - MOLESTED ADULT (GROPED, FONDLED, ETC.)            41\n",
       "WARRANT - SEARCH. EXECUTED, SECURED                      40\n",
       "ASSIST PUBLIC - NO WELFARE CHK OR DV ORDER SERVICE       39\n",
       "PROWLER                                                  39\n",
       "MVC - NON INJURY, BLOCKING                               37\n",
       "MVC - UNK INJURIES                                       37\n",
       "VICE - PROSTITUTION                                      36\n",
       "WARRANT - SEARCH. CAUTION (EXCL NARCOTICS)               34\n",
       "RAPE - IP/JO                                             33\n",
       "CHILD - IP/JO - ABAND, ABUSE, MOLEST, NEGLECT            30\n",
       "ASSIST OTHER AGENCY - EMERGENCY SERVICE                  29\n",
       "TRAFFIC - ROAD RAGE                                      27\n",
       "CARJACKING - IP/JO - ROBBERY                             26\n",
       "PURSE SNATCH - IP/JO - ROBBERY                           25\n",
       "RAPE                                                     24\n",
       "ORDER - VIOLATION OF COURT ORDER (NON DV)                24\n",
       "PANHANDLING, AGGRESSIVE                                  24\n",
       "ARSON - REPORT                                           23\n",
       "ALARM - RESIDENTIAL - BURGLARY, SILENT/AUDIBLE           23\n",
       "FOOT - ELUDING POLICE                                    23\n",
       "TRAFFIC - MOVING VIOLATION                               22\n",
       "TRAFFIC - BLOCKING ROADWAY                               21\n",
       "LIQUOR VIOLATIONS - MINOR                                19\n",
       "OPEN - BUILDING, DOOR, ETC.                              19\n",
       "NARCOTICS WARRANT SERVICE - EXECUTED, SECURED            18\n",
       "PEACE-STANDBY TO ASSURE (NO COURT ORDR SVC)              18\n",
       "NOISE - DISTURBANCE (PARTY, ETC)                         18\n",
       "BIAS -RACIAL, POLITICAL, SEXUAL MOTIVATION               18\n",
       "CHILD - ABAND, ABUSED, MOLESTED, NEGLECTED               18\n",
       "ALARM - BANK (HOLD-UP)                                   17\n",
       "SHOTS -DELAY/INCLUDES HEARD/NO ASSAULT                   16\n",
       "ANIMAL - INJURED, DEAD HAZARD, OTHER                     16\n",
       "PEDESTRIAN VIOLATIONS                                    15\n",
       "ILLEGAL DUMPING                                          15\n",
       "BOMB THREATS - IP/JO                                     14\n",
       "NOISE - DIST, GENERAL (CONST, RESID, BALL PLAY)          14\n",
       "PARKING VIOLATION (EXCEPT ABANDONED CAR)                 12\n",
       "PROPERTY - FOUND                                         11\n",
       "FOUND - PERSON                                           11\n",
       "HELP THE OFFICER                                         10\n",
       "FIGHT - WITH WEAPONS                                     10\n",
       "PURSE SNATCH - ROBBERY                                    9\n",
       "NARCOTICS WARRANT SERVICE                                 9\n",
       "TRAF - ELUDING POLICE                                     9\n",
       "FIREWORKS - NUISANCE (NO HAZARD)                          9\n",
       "JUVENILE - RUNAWAY                                        9\n",
       "JUVENILE - RUNAWAY PICKUP                                 8\n",
       "ASLT - PERSON SHOT OR SHOT AT                             8\n",
       "SUICIDE, SUICIDAL PERSON AND ATTEMPTS                     8\n",
       "AUTO - THEFT/LOSS, PLATES AND/OR TAB                      8\n",
       "NARCOTICS - FOUND                                         7\n",
       "DIRECTED PATROL ACTIVITY                                  7\n",
       "ASSIST SPD - ROUTINE SERVICE                              6\n",
       "CHILD - IP/JO - LURING                                    6\n",
       "DOA - CASUALTY, DEAD BODY                                 6\n",
       "-ASSIGNED DUTY - FOOT BEAT (FROM ASSIGNED CAR)            6\n",
       "PARKS VIOLATIONS/CITES (INCLUDES EXCLUSIONS)              5\n",
       "TRU - THEFT                                               4\n",
       "CHILD -  LURING                                           4\n",
       "ALARM - COMM, HOLD-UP/PANIC (EXCEPT BANKS)                4\n",
       "MISSING - CHILD                                           4\n",
       "ALARM - AUDIBLE AUTOMOBILE (UNOCC/ANTI-THEFT)             3\n",
       "SICK PERSON                                               3\n",
       "INJURED - IP/JO - PERSON/INDUSTRIAL ACCIDENT              3\n",
       "HAZ - IMMINENT THRT TO PHYS SAFETY (NO HAZ MAT)           3\n",
       "EXPLOSION - IP/JO                                         3\n",
       "TRAFFIC - ASSIST MOTORIST                                 3\n",
       "CARJACKING - ROBBERY                                      3\n",
       "SUSPICIOUS PACKAGE                                        3\n",
       "GAMBLING                                                  2\n",
       "ANIMAL - IP/JO - BITE                                     2\n",
       "ORDER  - SERVICE OF DV COURT ORDER                        2\n",
       "ASSIST SPD - URGENT SERVICE                               2\n",
       "LITTERING                                                 2\n",
       "AWOL - ADULT OR JUVENILE                                  2\n",
       "PROPERTY - DAMAGE (GUN RELATED)                           2\n",
       "URINATING, DEFECATING IN PUBLIC                           2\n",
       "SLEEPER ABOARD BUS/COMMUTER TRAIN                         2\n",
       "OFF DUTY EMPLOYMENT                                       2\n",
       "TRACKING ALARM                                            1\n",
       "PROPERTY - FOUND GUN, SHELLCASINGS                        1\n",
       "ESCAPE - PRISONER                                         1\n",
       "KNOWN KIDNAPPNG                                           1\n",
       "DEMONSTRATIONS                                            1\n",
       "VICE - PORNOGRAPHY                                        1\n",
       "WARRANT PICKUP - FROM OTHER AGENCY                        1\n",
       "MISSING - ADULT                                           1\n",
       "ANIMAL, REPORT - BITE                                     1\n",
       "MISSING - (ALZHEIMER, ENDANGERED, ELDERLY)                1\n",
       "INJURED -  PERSON/INDUSTRIAL ACCIDENT                     1\n",
       "REQUEST TO WATCH                                          1\n",
       "UNKNOWN - ANI/ALI - PAY PHNS (INCL OPEN LINE)             1\n",
       "ORDER - ASSIST DV VIC W/SRVC OF COURT ORDER               1\n",
       "ALARM - RESIDENTIAL - SILENT/AUD PANIC/DURESS             1\n",
       "-ASSIGNED DUTY - STAKEOUT                                 1\n",
       "PHONE - OBSCENE OR NUISANCE PHONE CALLS                   1\n",
       "ALARM - ATM MACHINE, FREE STANDING                        1\n",
       "HARBOR - WATER EMERGENCIES                                1\n",
       "Name: Initial Call Type, dtype: int64"
      ]
     },
     "execution_count": 14,
     "metadata": {},
     "output_type": "execute_result"
    }
   ],
   "source": [
    "#I am curious if there is a correlation between stop type and a person's race\n",
    "df['Initial Call Type'].value_counts()"
   ]
  },
  {
   "cell_type": "code",
   "execution_count": 15,
   "metadata": {
    "collapsed": true,
    "jupyter": {
     "outputs_hidden": true
    }
   },
   "outputs": [
    {
     "data": {
      "text/plain": [
       "N    43116\n",
       "Y     3189\n",
       "Name: Arrest Flag, dtype: int64"
      ]
     },
     "execution_count": 15,
     "metadata": {},
     "output_type": "execute_result"
    }
   ],
   "source": [
    "df['Arrest Flag'].value_counts()"
   ]
  },
  {
   "cell_type": "code",
   "execution_count": null,
   "metadata": {},
   "outputs": [],
   "source": [
    "#Turn reported date into Date time data type and change reported time into a date time data type. Use officer dob into age "
   ]
  },
  {
   "cell_type": "code",
   "execution_count": 16,
   "metadata": {
    "collapsed": true,
    "jupyter": {
     "outputs_hidden": true
    }
   },
   "outputs": [
    {
     "data": {
      "text/plain": [
       "N    35480\n",
       "Y    10347\n",
       "-      478\n",
       "Name: Frisk Flag, dtype: int64"
      ]
     },
     "execution_count": 16,
     "metadata": {},
     "output_type": "execute_result"
    }
   ],
   "source": [
    "#Drop - value\n",
    "df['Frisk Flag'].value_counts()\n"
   ]
  },
  {
   "cell_type": "code",
   "execution_count": 17,
   "metadata": {
    "jupyter": {
     "source_hidden": true
    }
   },
   "outputs": [
    {
     "data": {
      "text/plain": [
       "-                                                     13113\n",
       "--SUSPICIOUS CIRCUM. - SUSPICIOUS PERSON               3670\n",
       "--PROWLER - TRESPASS                                   3275\n",
       "--DISTURBANCE - OTHER                                  2658\n",
       "--ASSAULTS, OTHER                                      2244\n",
       "                                                      ...  \n",
       "BIAS -IP/JO - RACIAL, POLITICAL, SEXUAL MOTIVATION        1\n",
       "TRAFFIC - BLOCKING ROADWAY                                1\n",
       "RAPE                                                      1\n",
       "THEFT OF SERVICES                                         1\n",
       "UNDERCOVER OPS, CAUTION (INCLUDES STAKEOUTS)              1\n",
       "Name: Final Call Type, Length: 205, dtype: int64"
      ]
     },
     "execution_count": 17,
     "metadata": {},
     "output_type": "execute_result"
    }
   ],
   "source": [
    "df['Final Call Type'].value_counts()"
   ]
  },
  {
   "cell_type": "code",
   "execution_count": 18,
   "metadata": {},
   "outputs": [
    {
     "data": {
      "text/plain": [
       "911                              20730\n",
       "-                                13113\n",
       "ONVIEW                            8908\n",
       "TELEPHONE OTHER, NOT 911          3231\n",
       "ALARM CALL (NOT POLICE ALARM)      315\n",
       "TEXT MESSAGE                         7\n",
       "SCHEDULED EVENT (RECURRING)          1\n",
       "Name: Call Type, dtype: int64"
      ]
     },
     "execution_count": 18,
     "metadata": {},
     "output_type": "execute_result"
    }
   ],
   "source": [
    "df['Call Type'].value_counts()"
   ]
  },
  {
   "cell_type": "code",
   "execution_count": 19,
   "metadata": {
    "collapsed": true,
    "jupyter": {
     "outputs_hidden": true
    }
   },
   "outputs": [
    {
     "data": {
      "text/plain": [
       "Index(['Subject Age Group', 'Subject ID', 'GO / SC Num', 'Terry Stop ID',\n",
       "       'Stop Resolution', 'Weapon Type', 'Officer ID', 'Officer YOB',\n",
       "       'Officer Gender', 'Officer Race', 'Subject Perceived Race',\n",
       "       'Subject Perceived Gender', 'Reported Date', 'Reported Time',\n",
       "       'Initial Call Type', 'Final Call Type', 'Call Type', 'Officer Squad',\n",
       "       'Arrest Flag', 'Frisk Flag', 'Precinct', 'Sector', 'Beat'],\n",
       "      dtype='object')"
      ]
     },
     "execution_count": 19,
     "metadata": {},
     "output_type": "execute_result"
    }
   ],
   "source": [
    "#Check Columns\n",
    "df.columns"
   ]
  },
  {
   "cell_type": "code",
   "execution_count": 20,
   "metadata": {},
   "outputs": [],
   "source": [
    "features = ['Subject Age Group', 'Officer Race', 'Subject Perceived Race', 'Officer Gender', 'Stop Resolution', 'Subject Perceived Gender', \n",
    "            'Initial Call Type', 'Final Call Type', 'Call Type', 'Arrest Flag', 'Frisk Flag']"
   ]
  }
 ],
 "metadata": {
  "kernelspec": {
   "display_name": "Python 3",
   "language": "python",
   "name": "python3"
  },
  "language_info": {
   "codemirror_mode": {
    "name": "ipython",
    "version": 3
   },
   "file_extension": ".py",
   "mimetype": "text/x-python",
   "name": "python",
   "nbconvert_exporter": "python",
   "pygments_lexer": "ipython3",
   "version": "3.6.9"
  }
 },
 "nbformat": 4,
 "nbformat_minor": 4
}
