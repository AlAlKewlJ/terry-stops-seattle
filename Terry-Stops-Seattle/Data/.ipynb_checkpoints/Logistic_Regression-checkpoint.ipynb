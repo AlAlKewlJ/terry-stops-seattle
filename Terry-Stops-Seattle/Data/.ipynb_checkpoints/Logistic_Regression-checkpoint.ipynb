{
 "cells": [
  {
   "cell_type": "code",
   "execution_count": 2,
   "metadata": {},
   "outputs": [],
   "source": [
    "import pandas as pd\n",
    "import numpy as np\n",
    "import seaborn as sns\n",
    "import matplotlib.pyplot as plt\n",
    "import pandas_profiling\n",
    "import plotly.offline as po\n",
    "import plotly.graph_objs as go\n",
    "from sklearn.linear_model import LogisticRegression\n",
    "from sklearn.model_selection import train_test_split\n",
    "import warnings\n",
    "from sklearn.tree import DecisionTreeClassifier\n",
    "from sklearn.metrics import classification_report, confusion_matrix\n",
    "%matplotlib inline\n",
    "\n",
    "pd.set_option('display.max_columns',100)\n",
    "pd.set_option('display.max_rows', 200)"
   ]
  },
  {
   "cell_type": "code",
   "execution_count": 3,
   "metadata": {},
   "outputs": [],
   "source": [
    "warnings.filterwarnings(\"ignore\", category=FutureWarning)"
   ]
  },
  {
   "cell_type": "code",
   "execution_count": 4,
   "metadata": {},
   "outputs": [],
   "source": [
    "df = pd.read_csv('Terry_Stops.csv')"
   ]
  },
  {
   "cell_type": "markdown",
   "metadata": {},
   "source": [
    "**Data Cleaning**"
   ]
  },
  {
   "cell_type": "code",
   "execution_count": 5,
   "metadata": {},
   "outputs": [],
   "source": [
    "df['Precinct'] = df['Precinct'].replace(['SouthWest','-'], ['Southwest','Not Specified']) \n",
    "df = df[df.Precinct != 'OOJ']\n",
    "df = df[df.Precinct != 'FK ERROR']\n",
    "df = df[df.Precinct != 'Unknown']\n",
    "\n",
    "df['Officer Race'] = df['Officer Race'].replace('Unknown', 'Not Specified')\n",
    "\n",
    "df['Subject Perceived Race'] = df['Subject Perceived Race'].replace(['-', 'Unknown'],['Not Specified', 'Not Specified'])\n",
    "df['Subject Perceived Gender'] = df['Subject Perceived Gender'].replace('-', 'Unknown')\n",
    "df['Subject Perceived Gender'] = df['Subject Perceived Gender'].replace('Unable to Determine', 'Gender Diverse (gender non-conforming and/or transgender)')\n",
    "\n",
    "df['Call Type'] = df['Call Type'].replace('-','NOT SPECIFIED')\n",
    "\n",
    "df['Year_of_Report'] = pd.to_datetime(df['Reported Date']).dt.year\n",
    "df['Year_of_Report'] = df['Year_of_Report'].astype(int)"
   ]
  },
  {
   "cell_type": "markdown",
   "metadata": {},
   "source": [
    "**First Feature Engineering**"
   ]
  },
  {
   "cell_type": "code",
   "execution_count": 6,
   "metadata": {},
   "outputs": [],
   "source": [
    "#Creating the feature Arrested\n",
    "df['Arrested'] = df['Stop Resolution'] == 'Arrest'\n",
    "df['Arrested'] = df['Arrested'].replace([True, False], [1,0])\n",
    "\n",
    "#Creating the feature White_Officer\n",
    "df['White_Officer'] = (df['Officer Race'] == 'White')\n",
    "df['White_Officer'] = df['White_Officer'].replace([True, False], [1,0])\n",
    "\n",
    "#Creating the features Subject_POC\n",
    "df['Subject_POC'] = df['Subject Perceived Race'] != 'White'\n",
    "df['Subject_POC'] = df['Subject_POC'].replace([True, False], [1,0])\n",
    "\n",
    "#Creating Hour, Morning, Afternoon, Evening and Night Features\n",
    "df['Hour'] = pd.to_datetime(df['Reported Time'], format='%H:%M:%S').dt.hour\n",
    "df['Hour'] = df['Hour'].replace(0,24)\n",
    "df['Morning'] = (df['Hour'] >= 5) & (df['Hour'] < 12)\n",
    "df['Morning'] = df['Morning'].replace([True,False], [1,0])\n",
    "df['Afternoon']= (df['Hour'] >= 12) & (df['Hour'] < 17)\n",
    "df['Afternoon'] = df['Afternoon'].replace([True,False], [1,0])\n",
    "df['Evening'] = (df['Hour'] >= 17) & (df['Hour'] < 21)\n",
    "df['Evening'] = df['Evening'].replace([True,False], [1,0])\n",
    "df['Night'] = (df['Hour'] >= 21) & (df['Hour'] <= 24)\n",
    "df['Night'] = df['Night'].replace([True,False], [1,0])\n",
    "\n",
    "#Creating under_17 feature\n",
    "df['under_17'] = df['Subject Age Group']=='1 - 17'\n",
    "df['under_17'] = df['under_17'].replace([True, False], [1,0])\n",
    "\n",
    "\n",
    "#Creating Officer Age Feature\n",
    "df['Officer_Age'] = df['Year_of_Report'] - df['Officer YOB']\n",
    "under_70 = df[df['Officer_Age']<= 70]\n",
    "df['Officer YOB'] = df['Officer YOB'].astype(int)\n",
    "mean_age = round(under_70['Officer_Age'].mean(), 0)\n",
    "df['Officer_Age'] = df['Officer_Age'].replace([120,119,121,118,116,117,115],[mean_age,mean_age,mean_age,mean_age,mean_age,mean_age,mean_age])\n"
   ]
  },
  {
   "cell_type": "markdown",
   "metadata": {},
   "source": [
    "**Data Visualizations**"
   ]
  },
  {
   "cell_type": "code",
   "execution_count": 7,
   "metadata": {},
   "outputs": [
    {
     "data": {
      "image/png": "[encoded data removed]",
      "text/plain": [
       "<Figure size 432x288 with 1 Axes>"
      ]
     },
     "metadata": {
      "needs_background": "light"
     },
     "output_type": "display_data"
    }
   ],
   "source": [
    "size, scale = 100, 10\n",
    "\n",
    "df['Officer_Age'].plot.hist(grid=True, bins=20, rwidth=1,\n",
    "                   color='#607c8e')\n",
    "plt.title('Distribution of Officer Age')\n",
    "plt.xlabel('Officer Age')\n",
    "plt.ylabel('Quantity')\n",
    "plt.grid(axis='y', alpha=0.75)"
   ]
  },
  {
   "cell_type": "code",
   "execution_count": 8,
   "metadata": {},
   "outputs": [
    {
     "data": {
      "text/plain": [
       "Text(0.5, 1.0, 'Stop Resolutions')"
      ]
     },
     "execution_count": 8,
     "metadata": {},
     "output_type": "execute_result"
    },
    {
     "data": {
      "image/png": "[encoded data removed]",
      "text/plain": [
       "<Figure size 864x432 with 1 Axes>"
      ]
     },
     "metadata": {
      "needs_background": "light"
     },
     "output_type": "display_data"
    }
   ],
   "source": [
    "fig, ax = plt.subplots(figsize=(12,6))\n",
    "x = df['Stop Resolution'].value_counts().index\n",
    "y = df['Stop Resolution'].value_counts()\n",
    "\n",
    "sns.barplot(x=x, y=y, ax=ax, data=df)\n",
    "plt.xlabel(\"Stop Resolutions\", size=16)\n",
    "plt.ylabel(\"Population\", size=16)\n",
    "plt.title(\"Stop Resolutions\", size=24)"
   ]
  },
  {
   "cell_type": "code",
   "execution_count": 44,
   "metadata": {},
   "outputs": [
    {
     "data": {
      "text/plain": [
       "Text(0.5, 1.0, 'Arrests Resulting from Terry Stops')"
      ]
     },
     "execution_count": 44,
     "metadata": {},
     "output_type": "execute_result"
    },
    {
     "data": {
      "image/png": "[encoded data removed]",
      "text/plain": [
       "<Figure size 864x432 with 1 Axes>"
      ]
     },
     "metadata": {
      "needs_background": "light"
     },
     "output_type": "display_data"
    }
   ],
   "source": [
    "figure, axis = plt.subplots(figsize=(12,6))\n",
    "\n",
    "sns.barplot(x=df['Arrested'].value_counts().index, y=df['Arrested'].value_counts())\n",
    "plt.xlabel(\"Arrested vs Not Arrested\", size=16)\n",
    "plt.ylabel(\"Quantity\", size=16)\n",
    "plt.title('Arrests Resulting from Terry Stops', size=24)"
   ]
  },
  {
   "cell_type": "code",
   "execution_count": 48,
   "metadata": {},
   "outputs": [
    {
     "data": {
      "text/plain": [
       "Text(0.5, 1.0, 'Arrests Resulting from Terry Stops by Race')"
      ]
     },
     "execution_count": 48,
     "metadata": {},
     "output_type": "execute_result"
    },
    {
     "data": {
      "image/png": "[encoded data removed]",
      "text/plain": [
       "<Figure size 720x360 with 1 Axes>"
      ]
     },
     "metadata": {
      "needs_background": "light"
     },
     "output_type": "display_data"
    }
   ],
   "source": [
    "df.groupby([\"Subject Perceived Race\", \"Arrested\"]).size().unstack().plot(kind='bar', stacked=True, figsize=(10,5))\n",
    "plt.xlabel(\"Subject Perceived Race\", size=10)\n",
    "plt.ylabel(\"Quantity of Arrested vs Not Arrested\", size=10)\n",
    "plt.title('Arrests Resulting from Terry Stops by Race', size=24)"
   ]
  },
  {
   "cell_type": "code",
   "execution_count": 58,
   "metadata": {},
   "outputs": [
    {
     "data": {
      "text/plain": [
       "Text(0.5, 1.0, 'Stop Resolutions by Race')"
      ]
     },
     "execution_count": 58,
     "metadata": {},
     "output_type": "execute_result"
    },
    {
     "data": {
      "image/png": "[encoded data removed]",
      "text/plain": [
       "<Figure size 1008x648 with 1 Axes>"
      ]
     },
     "metadata": {
      "needs_background": "light"
     },
     "output_type": "display_data"
    }
   ],
   "source": [
    "df.groupby([\"Stop Resolution\", \"Subject Perceived Race\"]).size().unstack().plot(kind='bar', stacked=True, figsize=(14,9))\n",
    "plt.xlabel(\"Stop Resolutions\", size=18)\n",
    "plt.ylabel(\"Quantity of Race\", size=18)\n",
    "plt.title('Stop Resolutions by Race', size=24)"
   ]
  },
  {
   "cell_type": "code",
   "execution_count": 9,
   "metadata": {},
   "outputs": [
    {
     "data": {
      "text/html": [
       "<div>\n",
       "<style scoped>\n",
       "    .dataframe tbody tr th:only-of-type {\n",
       "        vertical-align: middle;\n",
       "    }\n",
       "\n",
       "    .dataframe tbody tr th {\n",
       "        vertical-align: top;\n",
       "    }\n",
       "\n",
       "    .dataframe thead th {\n",
       "        text-align: right;\n",
       "    }\n",
       "</style>\n",
       "<table border=\"1\" class=\"dataframe\">\n",
       "  <thead>\n",
       "    <tr style=\"text-align: right;\">\n",
       "      <th></th>\n",
       "      <th>Subject Perceived Race</th>\n",
       "      <th>Arrested</th>\n",
       "    </tr>\n",
       "  </thead>\n",
       "  <tbody>\n",
       "    <tr>\n",
       "      <th>0</th>\n",
       "      <td>White</td>\n",
       "      <td>1</td>\n",
       "    </tr>\n",
       "    <tr>\n",
       "      <th>1</th>\n",
       "      <td>Not Specified</td>\n",
       "      <td>0</td>\n",
       "    </tr>\n",
       "    <tr>\n",
       "      <th>2</th>\n",
       "      <td>White</td>\n",
       "      <td>0</td>\n",
       "    </tr>\n",
       "    <tr>\n",
       "      <th>3</th>\n",
       "      <td>White</td>\n",
       "      <td>0</td>\n",
       "    </tr>\n",
       "    <tr>\n",
       "      <th>4</th>\n",
       "      <td>Black or African American</td>\n",
       "      <td>1</td>\n",
       "    </tr>\n",
       "    <tr>\n",
       "      <th>...</th>\n",
       "      <td>...</td>\n",
       "      <td>...</td>\n",
       "    </tr>\n",
       "    <tr>\n",
       "      <th>46300</th>\n",
       "      <td>Black or African American</td>\n",
       "      <td>0</td>\n",
       "    </tr>\n",
       "    <tr>\n",
       "      <th>46301</th>\n",
       "      <td>Black or African American</td>\n",
       "      <td>0</td>\n",
       "    </tr>\n",
       "    <tr>\n",
       "      <th>46302</th>\n",
       "      <td>Hispanic</td>\n",
       "      <td>0</td>\n",
       "    </tr>\n",
       "    <tr>\n",
       "      <th>46303</th>\n",
       "      <td>Black or African American</td>\n",
       "      <td>0</td>\n",
       "    </tr>\n",
       "    <tr>\n",
       "      <th>46304</th>\n",
       "      <td>Black or African American</td>\n",
       "      <td>0</td>\n",
       "    </tr>\n",
       "  </tbody>\n",
       "</table>\n",
       "<p>46054 rows × 2 columns</p>\n",
       "</div>"
      ],
      "text/plain": [
       "          Subject Perceived Race  Arrested\n",
       "0                          White         1\n",
       "1                  Not Specified         0\n",
       "2                          White         0\n",
       "3                          White         0\n",
       "4      Black or African American         1\n",
       "...                          ...       ...\n",
       "46300  Black or African American         0\n",
       "46301  Black or African American         0\n",
       "46302                   Hispanic         0\n",
       "46303  Black or African American         0\n",
       "46304  Black or African American         0\n",
       "\n",
       "[46054 rows x 2 columns]"
      ]
     },
     "execution_count": 9,
     "metadata": {},
     "output_type": "execute_result"
    }
   ],
   "source": [
    "features = ['Subject Perceived Race','Arrested']\n",
    "df[features]"
   ]
  },
  {
   "cell_type": "code",
   "execution_count": 38,
   "metadata": {},
   "outputs": [
    {
     "data": {
      "text/plain": [
       "Subject Perceived Race\n",
       "American Indian or Alaska Native              387\n",
       "Asian                                         419\n",
       "Black or African American                    3809\n",
       "Hispanic                                      398\n",
       "Multi-Racial                                  162\n",
       "Native Hawaiian or Other Pacific Islander      14\n",
       "Not Specified                                 759\n",
       "Other                                          40\n",
       "White                                        5354\n",
       "Name: Arrested, dtype: int64"
      ]
     },
     "execution_count": 38,
     "metadata": {},
     "output_type": "execute_result"
    }
   ],
   "source": [
    "y = df[features].groupby(['Subject Perceived Race'])['Arrested'].sum()\n",
    "y"
   ]
  },
  {
   "cell_type": "code",
   "execution_count": 11,
   "metadata": {},
   "outputs": [
    {
     "data": {
      "text/plain": [
       "0    34712\n",
       "1    11342\n",
       "Name: Arrested, dtype: int64"
      ]
     },
     "execution_count": 11,
     "metadata": {},
     "output_type": "execute_result"
    }
   ],
   "source": [
    "df['Arrested'].value_counts()"
   ]
  },
  {
   "cell_type": "code",
   "execution_count": 12,
   "metadata": {},
   "outputs": [
    {
     "data": {
      "text/plain": [
       "Index(['American Indian or Alaska Native', 'Asian',\n",
       "       'Black or African American', 'Hispanic', 'Multi-Racial',\n",
       "       'Native Hawaiian or Other Pacific Islander', 'Not Specified', 'Other',\n",
       "       'White'],\n",
       "      dtype='object', name='Subject Perceived Race')"
      ]
     },
     "execution_count": 12,
     "metadata": {},
     "output_type": "execute_result"
    }
   ],
   "source": [
    "y.index"
   ]
  },
  {
   "cell_type": "markdown",
   "metadata": {},
   "source": [
    "## Modeling\n"
   ]
  },
  {
   "cell_type": "markdown",
   "metadata": {},
   "source": [
    "### Logistic Regression"
   ]
  },
  {
   "cell_type": "code",
   "execution_count": 13,
   "metadata": {},
   "outputs": [
    {
     "data": {
      "text/plain": [
       "0    34712\n",
       "1    11342\n",
       "Name: Arrested, dtype: int64"
      ]
     },
     "execution_count": 13,
     "metadata": {},
     "output_type": "execute_result"
    }
   ],
   "source": [
    "features2 = ['White_Officer', 'Subject_POC', 'Officer_Age', 'under_17','Morning', 'Afternoon', 'Evening', 'Night']\n",
    "y=df['Arrested']\n",
    "X=df[features2]\n",
    "df['Arrested'].value_counts()"
   ]
  },
  {
   "cell_type": "code",
   "execution_count": 14,
   "metadata": {},
   "outputs": [],
   "source": [
    "#Train test split\n",
    "X_train, X_test, y_train, y_test = train_test_split(X,y, test_size = 0.3, random_state = 0)"
   ]
  },
  {
   "cell_type": "code",
   "execution_count": 15,
   "metadata": {},
   "outputs": [],
   "source": [
    "# fitting our data to the logistic regression\n",
    "logreg = LogisticRegression().fit(X,y)"
   ]
  },
  {
   "cell_type": "code",
   "execution_count": 16,
   "metadata": {},
   "outputs": [
    {
     "name": "stdout",
     "output_type": "stream",
     "text": [
      "Accuracy of logistic regression classifier on test set: 0.75\n"
     ]
    }
   ],
   "source": [
    "y_pred = logreg.predict(X_test)\n",
    "print('Accuracy of logistic regression classifier on test set: {:.2f}'.format(logreg.score(X_test, y_test)))"
   ]
  },
  {
   "cell_type": "code",
   "execution_count": 17,
   "metadata": {},
   "outputs": [
    {
     "name": "stdout",
     "output_type": "stream",
     "text": [
      "Null model of probability of being arrested is 0.3489583333333333\n",
      "The odds of being arrested is 0.53599999213568\n",
      "the logged odds of being arrested is [-0.53576363]\n"
     ]
    }
   ],
   "source": [
    "logged_odds = logreg.intercept_\n",
    "odds = np.exp(logged_odds)\n",
    "probability = (odds/(1+odds))\n",
    "print(\"Null model of probability of being arrested is\" + \" \"+ str(268/(268+500)))\n",
    "print(\"The odds of being arrested is\" + \" \" + str(0.34895833/(1-0.34895833)))\n",
    "print(\"the logged odds of being arrested is\" + \" \" + str(np.log(odds)))"
   ]
  },
  {
   "cell_type": "code",
   "execution_count": 18,
   "metadata": {},
   "outputs": [
    {
     "name": "stdout",
     "output_type": "stream",
     "text": [
      "[[ 0.12845906  0.08521887 -0.02238417 -0.17109615  0.11739973  0.02872256\n",
      "   0.06074673  0.01309005]]\n",
      "[-0.53576363]\n"
     ]
    }
   ],
   "source": [
    "print(logreg.coef_)\n",
    "print(logreg.intercept_)"
   ]
  },
  {
   "cell_type": "markdown",
   "metadata": {},
   "source": [
    "### Decision Tree"
   ]
  },
  {
   "cell_type": "code",
   "execution_count": 26,
   "metadata": {},
   "outputs": [],
   "source": [
    "X_train_dt, X_test_dt, y_train_dt, y_test_dt = train_test_split(X, y, test_size=0.30, random_state=0)"
   ]
  },
  {
   "cell_type": "code",
   "execution_count": 27,
   "metadata": {},
   "outputs": [
    {
     "data": {
      "text/plain": [
       "DecisionTreeClassifier(class_weight=None, criterion='gini', max_depth=None,\n",
       "                       max_features=None, max_leaf_nodes=None,\n",
       "                       min_impurity_decrease=0.0, min_impurity_split=None,\n",
       "                       min_samples_leaf=1, min_samples_split=2,\n",
       "                       min_weight_fraction_leaf=0.0, presort=False,\n",
       "                       random_state=None, splitter='best')"
      ]
     },
     "execution_count": 27,
     "metadata": {},
     "output_type": "execute_result"
    }
   ],
   "source": [
    "classifier = DecisionTreeClassifier()\n",
    "classifier.fit(X_train_dt, y_train_dt)"
   ]
  },
  {
   "cell_type": "code",
   "execution_count": 34,
   "metadata": {},
   "outputs": [],
   "source": [
    "y_pred_dt = classifier.predict(X_test_dt)"
   ]
  },
  {
   "cell_type": "markdown",
   "metadata": {},
   "source": [
    "**Model Evaluation**"
   ]
  },
  {
   "cell_type": "code",
   "execution_count": 29,
   "metadata": {},
   "outputs": [
    {
     "name": "stdout",
     "output_type": "stream",
     "text": [
      "[[10328    89]\n",
      " [ 3359    41]]\n",
      "              precision    recall  f1-score   support\n",
      "\n",
      "           0       0.75      0.99      0.86     10417\n",
      "           1       0.32      0.01      0.02      3400\n",
      "\n",
      "    accuracy                           0.75     13817\n",
      "   macro avg       0.53      0.50      0.44     13817\n",
      "weighted avg       0.65      0.75      0.65     13817\n",
      "\n"
     ]
    }
   ],
   "source": [
    "print(confusion_matrix(y_test_dt, y_pred_dt))\n",
    "print(classification_report(y_test_dt, y_pred_dt))"
   ]
  },
  {
   "cell_type": "code",
   "execution_count": 30,
   "metadata": {},
   "outputs": [
    {
     "name": "stdout",
     "output_type": "stream",
     "text": [
      "[[10399     0]\n",
      " [ 3418     0]]\n",
      "              precision    recall  f1-score   support\n",
      "\n",
      "           0       0.75      1.00      0.86     10399\n",
      "           1       0.00      0.00      0.00      3418\n",
      "\n",
      "    accuracy                           0.75     13817\n",
      "   macro avg       0.38      0.50      0.43     13817\n",
      "weighted avg       0.57      0.75      0.65     13817\n",
      "\n"
     ]
    },
    {
     "name": "stderr",
     "output_type": "stream",
     "text": [
      "/Users/billylopez/opt/anaconda3/envs/learn-env/lib/python3.6/site-packages/sklearn/metrics/classification.py:1437: UndefinedMetricWarning:\n",
      "\n",
      "Precision and F-score are ill-defined and being set to 0.0 in labels with no predicted samples.\n",
      "\n"
     ]
    }
   ],
   "source": [
    "print(confusion_matrix(y_test, y_pred))\n",
    "print(classification_report(y_test, y_pred))"
   ]
  },
  {
   "cell_type": "markdown",
   "metadata": {},
   "source": [
    "Fixing Class Imbalance Using Oversampling: SMOTE"
   ]
  },
  {
   "cell_type": "code",
   "execution_count": null,
   "metadata": {},
   "outputs": [],
   "source": []
  },
  {
   "cell_type": "markdown",
   "metadata": {},
   "source": [
    "Fixing Class Imbalance Using Undersampling: Tomek Links"
   ]
  },
  {
   "cell_type": "code",
   "execution_count": null,
   "metadata": {},
   "outputs": [],
   "source": []
  }
 ],
 "metadata": {
  "kernelspec": {
   "display_name": "Python 3",
   "language": "python",
   "name": "python3"
  },
  "language_info": {
   "codemirror_mode": {
    "name": "ipython",
    "version": 3
   },
   "file_extension": ".py",
   "mimetype": "text/x-python",
   "name": "python",
   "nbconvert_exporter": "python",
   "pygments_lexer": "ipython3",
   "version": "3.6.9"
  },
  "toc": {
   "base_numbering": 1,
   "nav_menu": {},
   "number_sections": true,
   "sideBar": true,
   "skip_h1_title": false,
   "title_cell": "Table of Contents",
   "title_sidebar": "Contents",
   "toc_cell": false,
   "toc_position": {},
   "toc_section_display": true,
   "toc_window_display": false
  }
 },
 "nbformat": 4,
 "nbformat_minor": 4
}
