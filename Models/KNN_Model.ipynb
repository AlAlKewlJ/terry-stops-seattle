{
 "cells": [
  {
   "cell_type": "code",
<<<<<<< HEAD
   "execution_count": 7,
=======
   "execution_count": 16,
>>>>>>> 98001f1bfafb623b047a47c3944d33bc1004308e
   "metadata": {},
   "outputs": [],
   "source": [
    "import pandas as pd\n",
    "import numpy as np\n",
    "import seaborn as sns\n",
    "import matplotlib.pyplot as plt\n",
    "import pandas_profiling\n",
    "import plotly.offline as po\n",
    "import plotly.graph_objs as go\n",
    "from sklearn.linear_model import LogisticRegression\n",
    "from sklearn.model_selection import train_test_split\n",
    "from sklearn.metrics import classification_report, confusion_matrix\n",
    "%matplotlib inline\n",
    "\n",
    "pd.set_option('display.max_columns',100)\n",
    "pd.set_option('display.max_rows', 200)"
   ]
  },
  {
   "cell_type": "code",
<<<<<<< HEAD
   "execution_count": 8,
=======
   "execution_count": 3,
>>>>>>> 98001f1bfafb623b047a47c3944d33bc1004308e
   "metadata": {},
   "outputs": [],
   "source": [
    "df = pd.read_csv('Terry_Stops.csv')"
   ]
  },
  {
   "cell_type": "markdown",
   "metadata": {},
   "source": [
    "Data Cleaning "
   ]
  },
  {
   "cell_type": "code",
<<<<<<< HEAD
   "execution_count": 9,
=======
   "execution_count": 4,
>>>>>>> 98001f1bfafb623b047a47c3944d33bc1004308e
   "metadata": {},
   "outputs": [],
   "source": [
    "df['Precinct'] = df['Precinct'].replace(['SouthWest','-'], ['Southwest','Not Specified']) \n",
    "df = df[df.Precinct != 'OOJ']\n",
    "df = df[df.Precinct != 'FK ERROR']\n",
    "df = df[df.Precinct != 'Unknown']\n",
    "\n",
    "df['Officer Race'] = df['Officer Race'].replace('Unknown', 'Not Specified')\n",
    "\n",
    "df['Subject Perceived Race'] = df['Subject Perceived Race'].replace(['-', 'Unknown'],['Not Specified', 'Not Specified'])\n",
    "df['Subject Perceived Gender'] = df['Subject Perceived Gender'].replace('-', 'Unknown')\n",
    "df['Subject Perceived Gender'] = df['Subject Perceived Gender'].replace('Unable to Determine', 'Gender Diverse (gender non-conforming and/or transgender)')\n",
    "\n",
    "df['Call Type'] = df['Call Type'].replace('-','NOT SPECIFIED')\n",
    "\n",
    "df['Year_of_Report'] = pd.to_datetime(df['Reported Date']).dt.year\n",
    "df['Year_of_Report'] = df['Year_of_Report'].astype(int)\n",
    "\n"
   ]
  },
  {
   "cell_type": "markdown",
   "metadata": {},
   "source": [
    "Feature Engineering"
   ]
  },
  {
   "cell_type": "code",
<<<<<<< HEAD
   "execution_count": 10,
=======
   "execution_count": 5,
>>>>>>> 98001f1bfafb623b047a47c3944d33bc1004308e
   "metadata": {},
   "outputs": [],
   "source": [
    "#Creating the feature Arrested\n",
    "df['Arrested'] = df['Stop Resolution'] == 'Arrest'\n",
    "df['Arrested'] = df['Arrested'].replace([True, False], [1,0])\n",
    "\n",
    "#Creating the feature White_Officer\n",
    "df['White_Officer'] = (df['Officer Race'] == 'White')\n",
    "df['White_Officer'] = df['White_Officer'].replace([True, False], [1,0])\n",
    "\n",
    "#Creating the features Subject_POC\n",
    "df['Subject_POC'] = df['Subject Perceived Race'] != 'White'\n",
    "df['Subject_POC'] = df['Subject_POC'].replace([True, False], [1,0])\n",
    "\n",
    "#Creating Hour, Morning, Afternoon, Evening and Night Features\n",
    "df['Hour'] = pd.to_datetime(df['Reported Time'], format='%H:%M:%S').dt.hour\n",
    "df['Hour'] = df['Hour'].replace(0,24)\n",
    "df['Morning'] = (df['Hour'] >= 5) & (df['Hour'] < 12)\n",
    "df['Morning'] = df['Morning'].replace([True,False], [1,0])\n",
    "df['Afternoon']= (df['Hour'] >= 12) & (df['Hour'] < 17)\n",
    "df['Afternoon'] = df['Afternoon'].replace([True,False], [1,0])\n",
    "df['Evening'] = (df['Hour'] >= 17) & (df['Hour'] < 21)\n",
    "df['Evening'] = df['Evening'].replace([True,False], [1,0])\n",
    "df['Night'] = (df['Hour'] >= 21) & (df['Hour'] <= 24)\n",
    "df['Night'] = df['Night'].replace([True,False], [1,0])\n",
    "\n",
    "#Creating under_17 feature\n",
    "df['under_17'] = df['Subject Age Group']=='1 - 17'\n",
    "df['under_17'] = df['under_17'].replace([True, False], [1,0])\n",
    "\n",
    "\n",
    "#Creating Officer Age Feature\n",
    "df['Officer_Age'] = df['Year_of_Report'] - df['Officer YOB']\n",
    "under_70 = df[df['Officer_Age']<= 70]\n",
    "df['Officer YOB'] = df['Officer YOB'].astype(int)\n",
    "mean_age = round(under_70['Officer_Age'].mean(), 0)\n",
    "df['Officer_Age'] = df['Officer_Age'].replace([120,119,121,118,116,117,115],[mean_age,mean_age,mean_age,mean_age,mean_age,mean_age,mean_age])\n"
   ]
  },
  {
   "cell_type": "markdown",
   "metadata": {},
   "source": [
    "Data Visualizations "
   ]
  },
  {
   "cell_type": "code",
<<<<<<< HEAD
   "execution_count": 11,
=======
   "execution_count": 6,
>>>>>>> 98001f1bfafb623b047a47c3944d33bc1004308e
   "metadata": {},
   "outputs": [
    {
     "data": {
      "image/png": "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\n",
      "text/plain": [
       "<Figure size 432x288 with 1 Axes>"
      ]
     },
     "metadata": {
      "needs_background": "light"
     },
     "output_type": "display_data"
    }
   ],
   "source": [
    "size, scale = 100, 10\n",
    "\n",
    "df['Officer_Age'].plot.hist(grid=True, bins=20, rwidth=1,\n",
    "                   color='#607c8e')\n",
    "plt.title('Distribution of Officer Age')\n",
    "plt.xlabel('Officer Age')\n",
    "plt.ylabel('Quantity')\n",
    "plt.grid(axis='y', alpha=0.75)"
   ]
  },
  {
   "cell_type": "markdown",
   "metadata": {},
   "source": [
    "Modeling"
   ]
  },
  {
   "cell_type": "code",
<<<<<<< HEAD
   "execution_count": 12,
=======
   "execution_count": 7,
>>>>>>> 98001f1bfafb623b047a47c3944d33bc1004308e
   "metadata": {},
   "outputs": [
    {
     "data": {
      "text/plain": [
       "0    34712\n",
       "1    11342\n",
       "Name: Arrested, dtype: int64"
      ]
     },
<<<<<<< HEAD
     "execution_count": 12,
=======
     "execution_count": 7,
>>>>>>> 98001f1bfafb623b047a47c3944d33bc1004308e
     "metadata": {},
     "output_type": "execute_result"
    }
   ],
   "source": [
    "features = ['White_Officer', 'Subject_POC', 'Officer_Age', 'under_17','Morning', 'Afternoon', 'Evening', 'Night']\n",
    "y=df['Arrested']\n",
    "X=df[features]\n",
    "df['Arrested'].value_counts()"
   ]
  },
  {
   "cell_type": "code",
<<<<<<< HEAD
   "execution_count": 13,
=======
   "execution_count": 8,
>>>>>>> 98001f1bfafb623b047a47c3944d33bc1004308e
   "metadata": {},
   "outputs": [],
   "source": [
    "X_train, X_test, y_train, y_test = train_test_split(X,y, test_size = 0.2, random_state = 0)"
   ]
  },
  {
   "cell_type": "code",
<<<<<<< HEAD
   "execution_count": 14,
=======
   "execution_count": 9,
>>>>>>> 98001f1bfafb623b047a47c3944d33bc1004308e
   "metadata": {},
   "outputs": [],
   "source": [
    "from sklearn.neighbors import KNeighborsClassifier\n",
    "from sklearn.metrics import confusion_matrix\n",
    "from sklearn.metrics import f1_score\n",
    "from sklearn.metrics import accuracy_score\n",
    "from sklearn.metrics import precision_score\n",
    "from sklearn.metrics import recall_score"
   ]
  },
  {
   "cell_type": "code",
<<<<<<< HEAD
   "execution_count": 15,
=======
   "execution_count": 10,
>>>>>>> 98001f1bfafb623b047a47c3944d33bc1004308e
   "metadata": {},
   "outputs": [],
   "source": [
    "#Starting with k of 95, determined this by finding the square root of the length of \n",
    "#the entries.\n",
    "knn = KNeighborsClassifier(n_neighbors=5, p=2)"
   ]
  },
  {
   "cell_type": "code",
<<<<<<< HEAD
   "execution_count": 16,
=======
   "execution_count": 11,
>>>>>>> 98001f1bfafb623b047a47c3944d33bc1004308e
   "metadata": {},
   "outputs": [
    {
     "data": {
      "text/plain": [
       "KNeighborsClassifier(algorithm='auto', leaf_size=30, metric='minkowski',\n",
       "                     metric_params=None, n_jobs=None, n_neighbors=5, p=2,\n",
       "                     weights='uniform')"
      ]
     },
<<<<<<< HEAD
     "execution_count": 16,
=======
     "execution_count": 11,
>>>>>>> 98001f1bfafb623b047a47c3944d33bc1004308e
     "metadata": {},
     "output_type": "execute_result"
    }
   ],
   "source": [
    "knn.fit(X_train, y_train)"
   ]
  },
  {
   "cell_type": "code",
<<<<<<< HEAD
   "execution_count": 17,
=======
<<<<<<< HEAD
   "execution_count": 12,
   "metadata": {},
=======
   "execution_count": 13,
>>>>>>> 98001f1bfafb623b047a47c3944d33bc1004308e
   "metadata": {
    "jupyter": {
     "outputs_hidden": true
    }
   },
>>>>>>> 16470e1bf579d7c46ceb5d3b167277c8fc776227
   "outputs": [
    {
     "data": {
      "text/plain": [
       "array([0, 0, 0, ..., 0, 0, 0])"
      ]
     },
<<<<<<< HEAD
     "execution_count": 17,
=======
     "execution_count": 12,
>>>>>>> 98001f1bfafb623b047a47c3944d33bc1004308e
     "metadata": {},
     "output_type": "execute_result"
    }
   ],
   "source": [
    "y_pred= knn.predict(X_test)\n",
    "y_pred"
   ]
  },
  {
   "cell_type": "markdown",
   "metadata": {},
   "source": [
    "Model Evaluation"
   ]
  },
  {
   "cell_type": "code",
<<<<<<< HEAD
   "execution_count": 26,
=======
   "execution_count": 18,
>>>>>>> 98001f1bfafb623b047a47c3944d33bc1004308e
   "metadata": {},
   "outputs": [
    {
     "name": "stdout",
     "output_type": "stream",
     "text": [
      "[[6300  638]\n",
      " [2001  272]]\n"
     ]
    }
   ],
   "source": [
    "cm = confusion_matrix(y_test, y_pred)\n",
    "print (cm)"
   ]
  },
  {
   "cell_type": "code",
   "execution_count": 27,
   "metadata": {},
   "outputs": [
    {
     "name": "stdout",
     "output_type": "stream",
     "text": [
      "              precision    recall  f1-score   support\n",
      "\n",
      "           0       0.76      0.91      0.83      6938\n",
      "           1       0.30      0.12      0.17      2273\n",
      "\n",
      "    accuracy                           0.71      9211\n",
      "   macro avg       0.53      0.51      0.50      9211\n",
      "weighted avg       0.65      0.71      0.66      9211\n",
      "\n"
     ]
    },
    {
     "data": {
      "text/plain": [
       "Text(0.5, 1.0, 'KNN Confusion Matrix')"
      ]
     },
     "execution_count": 27,
     "metadata": {},
     "output_type": "execute_result"
    },
    {
     "data": {
      "image/png": "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\n",
      "text/plain": [
       "<Figure size 432x288 with 2 Axes>"
      ]
     },
     "metadata": {
      "needs_background": "light"
     },
     "output_type": "display_data"
    }
   ],
   "source": [
    "from sklearn.metrics import classification_report, confusion_matrix\n",
    "print(classification_report(y_test, y_pred))\n",
    "categories = ['Not Arrested', 'Arrested']\n",
    "sns.heatmap(cm/np.sum(cm), annot=True,\n",
    "             fmt='.2%', cmap='Blues', xticklabels=categories, yticklabels=categories)\n",
    "plt.xlabel(\"Predicted\",size=15, loc='center')\n",
    "plt.ylabel(\"Actual\",size=15, loc='center')\n",
    "plt.title('KNN Confusion Matrix',size=20)"
   ]
  },
  {
   "cell_type": "code",
   "execution_count": 28,
   "metadata": {},
   "outputs": [
    {
     "name": "stdout",
     "output_type": "stream",
     "text": [
      "Original F1 Score: 0.17090794847628024\n",
      "Original Accuracy Score: 0.7134947345565085\n"
     ]
    }
   ],
   "source": [
    "#Evaluating with f1 score and Accuracy Score\n",
    "print('Original F1 Score:', (f1_score(y_test, y_pred)))\n",
    "print('Original Accuracy Score:', (accuracy_score(y_test, y_pred)))"
   ]
  },
  {
   "cell_type": "markdown",
   "metadata": {},
   "source": [
    "---------------------------------------"
   ]
  },
  {
   "cell_type": "markdown",
   "metadata": {},
   "source": [
    "Fixing Class Imbalance Using Oversampling: SMOTE"
   ]
  },
  {
   "cell_type": "code",
   "execution_count": 16,
   "metadata": {},
   "outputs": [],
   "source": [
    "training = pd.concat([X_train, y_train], axis=1)"
   ]
  },
  {
   "cell_type": "code",
   "execution_count": 18,
   "metadata": {
    "scrolled": true
   },
   "outputs": [
    {
     "ename": "NameError",
     "evalue": "name 'training' is not defined",
     "output_type": "error",
     "traceback": [
      "\u001b[0;31m---------------------------------------------------------------------------\u001b[0m",
      "\u001b[0;31mNameError\u001b[0m                                 Traceback (most recent call last)",
      "\u001b[0;32m<ipython-input-18-43607a103f11>\u001b[0m in \u001b[0;36m<module>\u001b[0;34m()\u001b[0m\n\u001b[0;32m----> 1\u001b[0;31m \u001b[0myes_arrested\u001b[0m \u001b[0;34m=\u001b[0m \u001b[0mtraining\u001b[0m\u001b[0;34m[\u001b[0m\u001b[0mtraining\u001b[0m\u001b[0;34m.\u001b[0m\u001b[0mArrested\u001b[0m\u001b[0;34m==\u001b[0m\u001b[0;36m1\u001b[0m\u001b[0;34m]\u001b[0m\u001b[0;34m\u001b[0m\u001b[0;34m\u001b[0m\u001b[0m\n\u001b[0m\u001b[1;32m      2\u001b[0m \u001b[0mnot_arrested\u001b[0m \u001b[0;34m=\u001b[0m \u001b[0mtraining\u001b[0m\u001b[0;34m[\u001b[0m\u001b[0mtraining\u001b[0m\u001b[0;34m.\u001b[0m\u001b[0mArrested\u001b[0m\u001b[0;34m==\u001b[0m\u001b[0;36m0\u001b[0m\u001b[0;34m]\u001b[0m\u001b[0;34m\u001b[0m\u001b[0;34m\u001b[0m\u001b[0m\n",
      "\u001b[0;31mNameError\u001b[0m: name 'training' is not defined"
     ]
    }
   ],
   "source": [
    "yes_arrested = training[training.Arrested==1] \n",
    "not_arrested = training[training.Arrested==0]"
   ]
  },
  {
   "cell_type": "code",
   "execution_count": 18,
   "metadata": {},
   "outputs": [],
   "source": [
    "from imblearn.over_sampling import SMOTE"
   ]
  },
  {
   "cell_type": "code",
   "execution_count": 19,
   "metadata": {},
   "outputs": [],
   "source": [
    "sm = SMOTE(sampling_strategy='minority', random_state=23)\n",
    "X_train_smote, y_train_smote = sm.fit_sample(X_train, y_train)"
   ]
  },
  {
   "cell_type": "code",
   "execution_count": 20,
   "metadata": {},
   "outputs": [],
   "source": [
    "def fit_predict(model, x_train, y_train, test):\n",
    "    model.fit(x_train, y_train)\n",
    "    predictions = model.predict(test)\n",
    "    \n",
    "    print('Test Accuracy Score: ', accuracy_score(test, prediction))\n",
    "    \n",
    "    print('Test F1 score: ', f1_score(test, predictions))"
   ]
  },
  {
   "cell_type": "code",
   "execution_count": 21,
   "metadata": {},
   "outputs": [
    {
     "name": "stdout",
     "output_type": "stream",
     "text": [
      "SMOTE F1 Score:  0.31510594668489406\n",
      "SMOTE Accuracy Score:  0.5648680924981001\n"
     ]
    }
   ],
   "source": [
    "smote_knn = KNeighborsClassifier(n_neighbors=5, p=2)\n",
    "smote_knn.fit(X_train_smote, y_train_smote)\n",
    "smote_pred = smote_knn.predict(X_test)\n",
    "\n",
    "print ( 'SMOTE F1 Score: ', f1_score(y_test, smote_pred))\n",
    "print ('SMOTE Accuracy Score: ', accuracy_score(y_test, smote_pred))"
   ]
  },
  {
   "cell_type": "markdown",
   "metadata": {},
   "source": [
    "---------------------------"
   ]
  },
  {
   "cell_type": "markdown",
   "metadata": {},
   "source": [
    "Fixing Class Imbalance Using Undersampling: "
   ]
  },
  {
   "cell_type": "code",
   "execution_count": 52,
   "metadata": {},
   "outputs": [],
   "source": [
    "from collections import Counter\n",
    "from imblearn.under_sampling import TomekLinks"
   ]
  },
  {
   "cell_type": "code",
   "execution_count": 54,
   "metadata": {},
   "outputs": [
    {
     "data": {
      "text/plain": [
       "array([    0,     1,     2, ..., 36840, 36841, 36842])"
      ]
     },
     "execution_count": 54,
     "metadata": {},
     "output_type": "execute_result"
    }
   ],
   "source": [
    "tl.sample_indices_"
   ]
  },
  {
   "cell_type": "code",
   "execution_count": 55,
   "metadata": {},
   "outputs": [],
   "source": [
    "tl = TomekLinks()\n",
    "X_train_tomek, y_train_tomek = tl.fit_sample(X_train, y_train)"
   ]
  },
  {
   "cell_type": "code",
   "execution_count": 51,
   "metadata": {},
   "outputs": [
    {
     "name": "stdout",
     "output_type": "stream",
     "text": [
      "Tomek F1 score:  0.1699013681196309\n",
      "Tomek Accuracy score:  0.7167517099120617\n"
     ]
    }
   ],
   "source": [
    "tomek_knn = KNeighborsClassifier(n_neighbors=5, p=2)\n",
    "tomek_knn.fit(X_train_tomek, y_train_tomek)\n",
    "tomek_pred = tomek_knn.predict(X_test)\n",
    "\n",
    "\n",
    "# checking accuracy\n",
    "print('Tomek F1 score: ', f1_score(y_test, tomek_pred))\n",
    "# checking accuracy\n",
    "print('Tomek Accuracy score: ', accuracy_score(y_test, tomek_pred))"
   ]
  },
  {
   "cell_type": "markdown",
   "metadata": {},
   "source": [
    "----------------------------------------"
   ]
  },
  {
   "cell_type": "markdown",
   "metadata": {},
   "source": [
    "Upsampling"
   ]
  },
  {
   "cell_type": "code",
   "execution_count": 32,
   "metadata": {},
   "outputs": [],
   "source": [
    "from sklearn.utils import resample"
   ]
  },
  {
   "cell_type": "code",
   "execution_count": 33,
   "metadata": {},
   "outputs": [],
   "source": [
    "arrested_upsampled = resample(yes_arrested,\n",
    "                        replace=True,\n",
    "                        n_samples=len(not_arrested),\n",
    "                        random_state=23)"
   ]
  },
  {
   "cell_type": "code",
   "execution_count": 34,
   "metadata": {},
   "outputs": [
    {
     "data": {
      "text/plain": [
       "(27774, 9)"
      ]
     },
     "execution_count": 34,
     "metadata": {},
     "output_type": "execute_result"
    }
   ],
   "source": [
    "arrested_upsampled.shape"
   ]
  },
  {
   "cell_type": "code",
   "execution_count": 35,
   "metadata": {},
   "outputs": [
    {
     "data": {
      "text/plain": [
       "1    27774\n",
       "0    27774\n",
       "Name: Arrested, dtype: int64"
      ]
     },
     "execution_count": 35,
     "metadata": {},
     "output_type": "execute_result"
    }
   ],
   "source": [
    "upsampled = pd.concat([not_arrested, arrested_upsampled])\n",
    "\n",
    "upsampled.Arrested.value_counts()"
   ]
  },
  {
   "cell_type": "code",
   "execution_count": 47,
   "metadata": {},
   "outputs": [
    {
     "name": "stdout",
     "output_type": "stream",
     "text": [
      "Upsampled F1 Score: 0.3114607545145718\n",
      "Upsampled Accuracy score:  0.5819129301921615\n"
     ]
    }
   ],
   "source": [
    "y_train_up = upsampled.Arrested\n",
    "X_train_up = upsampled.drop('Arrested', axis=1)\n",
    "\n",
    "upsampled_knn = KNeighborsClassifier(n_neighbors=5, p=2)\n",
    "upsampled_knn.fit(X_train_up, y_train_up)\n",
    "upsampled_pred = upsampled_knn.predict(X_test)\n",
    "\n",
    "print('Upsampled F1 Score:', f1_score(y_test, upsampled_pred))\n",
    "print('Upsampled Accuracy score: ', accuracy_score(y_test, upsampled_pred))"
   ]
  },
  {
   "cell_type": "markdown",
   "metadata": {},
   "source": [
    "-------------------------------------------"
   ]
  },
  {
   "cell_type": "markdown",
   "metadata": {},
   "source": [
    "Downsampling "
   ]
  },
  {
   "cell_type": "code",
   "execution_count": 40,
   "metadata": {},
   "outputs": [],
   "source": [
    "arrested_downsampled = resample(not_arrested,\n",
    "                               replace = False,\n",
    "                               n_samples = len(yes_arrested),\n",
    "                               random_state = 23)"
   ]
  },
  {
   "cell_type": "code",
   "execution_count": 41,
   "metadata": {},
   "outputs": [
    {
     "data": {
      "text/plain": [
       "(9069, 9)"
      ]
     },
     "execution_count": 41,
     "metadata": {},
     "output_type": "execute_result"
    }
   ],
   "source": [
    "arrested_downsampled.shape"
   ]
  },
  {
   "cell_type": "code",
   "execution_count": 43,
   "metadata": {},
   "outputs": [
    {
     "data": {
      "text/plain": [
       "1    9069\n",
       "0    9069\n",
       "Name: Arrested, dtype: int64"
      ]
     },
     "execution_count": 43,
     "metadata": {},
     "output_type": "execute_result"
    }
   ],
   "source": [
    "downsampled = pd.concat([arrested_downsampled, yes_arrested])\n",
    "\n",
    "downsampled.Arrested.value_counts()"
   ]
  },
  {
   "cell_type": "code",
   "execution_count": 46,
   "metadata": {},
   "outputs": [
    {
     "name": "stdout",
     "output_type": "stream",
     "text": [
      "Downsampled F1 Score: 0.32810694834131043\n",
      "Downsampled Accuracy score:  0.5580284442514385\n"
     ]
    }
   ],
   "source": [
    "y_train_up = downsampled.Arrested\n",
    "X_train_up = downsampled.drop('Arrested', axis=1)\n",
    "\n",
    "downsampled_knn = KNeighborsClassifier(n_neighbors=5, p=2)\n",
    "downsampled_knn.fit(X_train_up, y_train_up)\n",
    "downsampled_pred = downsampled_knn.predict(X_test)\n",
    "\n",
    "print('Downsampled F1 Score:', f1_score(y_test, downsampled_pred))\n",
    "print('Downsampled Accuracy score: ', accuracy_score(y_test, downsampled_pred))"
   ]
  },
  {
   "cell_type": "markdown",
   "metadata": {},
   "source": [
    "-------------------------------"
   ]
  },
  {
   "cell_type": "code",
   "execution_count": 57,
   "metadata": {},
   "outputs": [
    {
     "name": "stdout",
     "output_type": "stream",
     "text": [
      "Original F1 Score: 0.17090794847628024\n",
      "Original Accuracy Score: 0.7134947345565085\n",
      "Upsampled F1 Score: 0.3114607545145718\n",
      "Upsampled Accuracy score:  0.5819129301921615\n",
      "Downsampled F1 Score: 0.32810694834131043\n",
      "Downsampled Accuracy score:  0.5580284442514385\n",
      "Tomek F1 score:  0.1699013681196309\n",
      "Tomek Accuracy score:  0.7167517099120617\n",
      "SMOTE F1 Score:  0.31510594668489406\n",
      "SMOTE Accuracy Score:  0.5648680924981001\n"
     ]
    }
   ],
   "source": [
    "print('Original F1 Score:', (f1_score(y_test, y_pred)))\n",
    "print('Original Accuracy Score:', (accuracy_score(y_test, y_pred)))\n",
    "\n",
    "print('Upsampled F1 Score:', f1_score(y_test, upsampled_pred))\n",
    "print('Upsampled Accuracy score: ', accuracy_score(y_test, upsampled_pred))\n",
    "\n",
    "print('Downsampled F1 Score:', f1_score(y_test, downsampled_pred))\n",
    "print('Downsampled Accuracy score: ', accuracy_score(y_test, downsampled_pred))\n",
    "\n",
    "print('Tomek F1 score: ', f1_score(y_test, tomek_pred))\n",
    "print('Tomek Accuracy score: ', accuracy_score(y_test, tomek_pred))\n",
    "\n",
    "print ( 'SMOTE F1 Score: ', f1_score(y_test, smote_pred))\n",
    "print ('SMOTE Accuracy Score: ', accuracy_score(y_test, smote_pred))"
   ]
  },
  {
   "cell_type": "code",
   "execution_count": null,
   "metadata": {},
   "outputs": [],
   "source": []
  }
 ],
 "metadata": {
  "kernelspec": {
   "display_name": "Python 3",
   "language": "python",
   "name": "python3"
  },
  "language_info": {
   "codemirror_mode": {
    "name": "ipython",
    "version": 3
   },
   "file_extension": ".py",
   "mimetype": "text/x-python",
   "name": "python",
   "nbconvert_exporter": "python",
   "pygments_lexer": "ipython3",
   "version": "3.6.9"
  },
  "toc": {
   "base_numbering": 1,
   "nav_menu": {},
   "number_sections": true,
   "sideBar": true,
   "skip_h1_title": false,
   "title_cell": "Table of Contents",
   "title_sidebar": "Contents",
   "toc_cell": false,
   "toc_position": {},
   "toc_section_display": true,
   "toc_window_display": false
  }
 },
 "nbformat": 4,
 "nbformat_minor": 4
}
